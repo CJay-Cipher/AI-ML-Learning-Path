{
 "cells": [
  {
   "cell_type": "markdown",
   "id": "9bacb8d6",
   "metadata": {
    "papermill": {
     "duration": 0.029829,
     "end_time": "2023-12-15T19:01:30.256501",
     "exception": false,
     "start_time": "2023-12-15T19:01:30.226672",
     "status": "completed"
    },
    "tags": []
   },
   "source": [
    "### Importing Libraries"
   ]
  },
  {
   "cell_type": "code",
   "execution_count": 315,
   "id": "d1956962",
   "metadata": {
    "execution": {
     "iopub.execute_input": "2023-12-15T19:01:30.321470Z",
     "iopub.status.busy": "2023-12-15T19:01:30.319934Z",
     "iopub.status.idle": "2023-12-15T19:01:38.059816Z",
     "shell.execute_reply": "2023-12-15T19:01:38.058424Z"
    },
    "papermill": {
     "duration": 7.775474,
     "end_time": "2023-12-15T19:01:38.062728",
     "exception": false,
     "start_time": "2023-12-15T19:01:30.287254",
     "status": "completed"
    },
    "tags": []
   },
   "outputs": [],
   "source": [
    "import pandas as pd\n",
    "import numpy as np\n",
    "import seaborn as sns\n",
    "import matplotlib.pyplot as plt\n",
    "\n",
    "from sklearn.tree import DecisionTreeRegressor\n",
    "from sklearn.svm import SVR\n",
    "import xgboost as xgb\n",
    "from sklearn.model_selection import train_test_split, GridSearchCV, cross_val_score\n",
    "from sklearn.preprocessing import StandardScaler, OneHotEncoder, LabelEncoder\n",
    "from sklearn.impute import KNNImputer\n",
    "from sklearn.linear_model import LinearRegression, Ridge, Lasso, ElasticNet\n",
    "from sklearn.neighbors import KNeighborsRegressor\n",
    "from sklearn.ensemble import RandomForestRegressor, GradientBoostingRegressor\n",
    "from sklearn.metrics import mean_squared_error, r2_score\n",
    "\n",
    "import warnings\n",
    "from sklearn.exceptions import ConvergenceWarning\n",
    "warnings.filterwarnings(action='ignore', category=ConvergenceWarning)"
   ]
  },
  {
   "cell_type": "markdown",
   "id": "efb5dd38",
   "metadata": {
    "papermill": {
     "duration": 0.030096,
     "end_time": "2023-12-15T19:01:38.123102",
     "exception": false,
     "start_time": "2023-12-15T19:01:38.093006",
     "status": "completed"
    },
    "tags": []
   },
   "source": [
    "#### Importing data (csv) into Pandas dataframe"
   ]
  },
  {
   "cell_type": "code",
   "execution_count": 316,
   "id": "a5dc46a0",
   "metadata": {
    "execution": {
     "iopub.execute_input": "2023-12-15T19:01:38.186880Z",
     "iopub.status.busy": "2023-12-15T19:01:38.185421Z",
     "iopub.status.idle": "2023-12-15T19:01:38.285374Z",
     "shell.execute_reply": "2023-12-15T19:01:38.284250Z"
    },
    "papermill": {
     "duration": 0.135422,
     "end_time": "2023-12-15T19:01:38.288665",
     "exception": false,
     "start_time": "2023-12-15T19:01:38.153243",
     "status": "completed"
    },
    "tags": []
   },
   "outputs": [
    {
     "name": "stdout",
     "output_type": "stream",
     "text": [
      "(18445, 8)\n"
     ]
    },
    {
     "data": {
      "text/html": [
       "<div>\n",
       "<style scoped>\n",
       "    .dataframe tbody tr th:only-of-type {\n",
       "        vertical-align: middle;\n",
       "    }\n",
       "\n",
       "    .dataframe tbody tr th {\n",
       "        vertical-align: top;\n",
       "    }\n",
       "\n",
       "    .dataframe thead th {\n",
       "        text-align: right;\n",
       "    }\n",
       "</style>\n",
       "<table border=\"1\" class=\"dataframe\">\n",
       "  <thead>\n",
       "    <tr style=\"text-align: right;\">\n",
       "      <th></th>\n",
       "      <th>bedrooms</th>\n",
       "      <th>bathrooms</th>\n",
       "      <th>toilets</th>\n",
       "      <th>parking_space</th>\n",
       "      <th>title</th>\n",
       "      <th>town</th>\n",
       "      <th>state</th>\n",
       "      <th>price</th>\n",
       "    </tr>\n",
       "  </thead>\n",
       "  <tbody>\n",
       "    <tr>\n",
       "      <th>0</th>\n",
       "      <td>4.0</td>\n",
       "      <td>5.0</td>\n",
       "      <td>5.0</td>\n",
       "      <td>4.0</td>\n",
       "      <td>Detached Duplex</td>\n",
       "      <td>Lekki</td>\n",
       "      <td>Lagos</td>\n",
       "      <td>120000000.0</td>\n",
       "    </tr>\n",
       "    <tr>\n",
       "      <th>1</th>\n",
       "      <td>4.0</td>\n",
       "      <td>4.0</td>\n",
       "      <td>5.0</td>\n",
       "      <td>6.0</td>\n",
       "      <td>Detached Duplex</td>\n",
       "      <td>Ajah</td>\n",
       "      <td>Lagos</td>\n",
       "      <td>40000000.0</td>\n",
       "    </tr>\n",
       "    <tr>\n",
       "      <th>2</th>\n",
       "      <td>4.0</td>\n",
       "      <td>4.0</td>\n",
       "      <td>5.0</td>\n",
       "      <td>2.0</td>\n",
       "      <td>Semi Detached Duplex</td>\n",
       "      <td>Lekki</td>\n",
       "      <td>Lagos</td>\n",
       "      <td>75000000.0</td>\n",
       "    </tr>\n",
       "    <tr>\n",
       "      <th>3</th>\n",
       "      <td>5.0</td>\n",
       "      <td>5.0</td>\n",
       "      <td>6.0</td>\n",
       "      <td>1.0</td>\n",
       "      <td>Detached Duplex</td>\n",
       "      <td>Lekki</td>\n",
       "      <td>Lagos</td>\n",
       "      <td>450000000.0</td>\n",
       "    </tr>\n",
       "    <tr>\n",
       "      <th>4</th>\n",
       "      <td>4.0</td>\n",
       "      <td>5.0</td>\n",
       "      <td>5.0</td>\n",
       "      <td>4.0</td>\n",
       "      <td>Detached Duplex</td>\n",
       "      <td>Lekki</td>\n",
       "      <td>Lagos</td>\n",
       "      <td>65000000.0</td>\n",
       "    </tr>\n",
       "  </tbody>\n",
       "</table>\n",
       "</div>"
      ],
      "text/plain": [
       "   bedrooms  bathrooms  toilets  parking_space                 title   town  \\\n",
       "0       4.0        5.0      5.0            4.0       Detached Duplex  Lekki   \n",
       "1       4.0        4.0      5.0            6.0       Detached Duplex   Ajah   \n",
       "2       4.0        4.0      5.0            2.0  Semi Detached Duplex  Lekki   \n",
       "3       5.0        5.0      6.0            1.0       Detached Duplex  Lekki   \n",
       "4       4.0        5.0      5.0            4.0       Detached Duplex  Lekki   \n",
       "\n",
       "   state        price  \n",
       "0  Lagos  120000000.0  \n",
       "1  Lagos   40000000.0  \n",
       "2  Lagos   75000000.0  \n",
       "3  Lagos  450000000.0  \n",
       "4  Lagos   65000000.0  "
      ]
     },
     "execution_count": 316,
     "metadata": {},
     "output_type": "execute_result"
    }
   ],
   "source": [
    "data = pd.read_csv(\"price_data.csv\")\n",
    "print(data.shape)\n",
    "data.head()"
   ]
  },
  {
   "cell_type": "code",
   "execution_count": 317,
   "id": "0027ab26",
   "metadata": {},
   "outputs": [],
   "source": [
    "# make a copy of the dataset to work with\n",
    "df = data.copy()"
   ]
  },
  {
   "cell_type": "code",
   "execution_count": 318,
   "id": "5551f791",
   "metadata": {
    "execution": {
     "iopub.execute_input": "2023-12-15T19:01:38.415692Z",
     "iopub.status.busy": "2023-12-15T19:01:38.415289Z",
     "iopub.status.idle": "2023-12-15T19:01:38.452472Z",
     "shell.execute_reply": "2023-12-15T19:01:38.451291Z"
    },
    "papermill": {
     "duration": 0.071985,
     "end_time": "2023-12-15T19:01:38.455148",
     "exception": false,
     "start_time": "2023-12-15T19:01:38.383163",
     "status": "completed"
    },
    "tags": []
   },
   "outputs": [
    {
     "name": "stdout",
     "output_type": "stream",
     "text": [
      "<class 'pandas.core.frame.DataFrame'>\n",
      "RangeIndex: 18445 entries, 0 to 18444\n",
      "Data columns (total 8 columns):\n",
      " #   Column         Non-Null Count  Dtype  \n",
      "---  ------         --------------  -----  \n",
      " 0   bedrooms       18445 non-null  float64\n",
      " 1   bathrooms      18445 non-null  float64\n",
      " 2   toilets        18445 non-null  float64\n",
      " 3   parking_space  18445 non-null  float64\n",
      " 4   title          18445 non-null  object \n",
      " 5   town           18445 non-null  object \n",
      " 6   state          18445 non-null  object \n",
      " 7   price          18445 non-null  float64\n",
      "dtypes: float64(5), object(3)\n",
      "memory usage: 1.1+ MB\n"
     ]
    }
   ],
   "source": [
    "df.info()"
   ]
  },
  {
   "cell_type": "markdown",
   "id": "28058d77",
   "metadata": {
    "papermill": {
     "duration": 0.030807,
     "end_time": "2023-12-15T19:01:38.517281",
     "exception": false,
     "start_time": "2023-12-15T19:01:38.486474",
     "status": "completed"
    },
    "tags": []
   },
   "source": [
    "There are no missing values in the dataset."
   ]
  },
  {
   "cell_type": "markdown",
   "id": "1e392824",
   "metadata": {
    "papermill": {
     "duration": 0.030381,
     "end_time": "2023-12-15T19:01:38.578219",
     "exception": false,
     "start_time": "2023-12-15T19:01:38.547838",
     "status": "completed"
    },
    "tags": []
   },
   "source": [
    "##### Summary Statistics of all features"
   ]
  },
  {
   "cell_type": "code",
   "execution_count": 319,
   "id": "155bf956",
   "metadata": {
    "execution": {
     "iopub.execute_input": "2023-12-15T19:01:38.641389Z",
     "iopub.status.busy": "2023-12-15T19:01:38.640937Z",
     "iopub.status.idle": "2023-12-15T19:01:38.706776Z",
     "shell.execute_reply": "2023-12-15T19:01:38.705574Z"
    },
    "papermill": {
     "duration": 0.100646,
     "end_time": "2023-12-15T19:01:38.709483",
     "exception": false,
     "start_time": "2023-12-15T19:01:38.608837",
     "status": "completed"
    },
    "tags": []
   },
   "outputs": [
    {
     "data": {
      "text/html": [
       "<div>\n",
       "<style scoped>\n",
       "    .dataframe tbody tr th:only-of-type {\n",
       "        vertical-align: middle;\n",
       "    }\n",
       "\n",
       "    .dataframe tbody tr th {\n",
       "        vertical-align: top;\n",
       "    }\n",
       "\n",
       "    .dataframe thead th {\n",
       "        text-align: right;\n",
       "    }\n",
       "</style>\n",
       "<table border=\"1\" class=\"dataframe\">\n",
       "  <thead>\n",
       "    <tr style=\"text-align: right;\">\n",
       "      <th></th>\n",
       "      <th>bedrooms</th>\n",
       "      <th>bathrooms</th>\n",
       "      <th>toilets</th>\n",
       "      <th>parking_space</th>\n",
       "      <th>title</th>\n",
       "      <th>town</th>\n",
       "      <th>state</th>\n",
       "      <th>price</th>\n",
       "    </tr>\n",
       "  </thead>\n",
       "  <tbody>\n",
       "    <tr>\n",
       "      <th>count</th>\n",
       "      <td>18445.000000</td>\n",
       "      <td>18445.000000</td>\n",
       "      <td>18445.000000</td>\n",
       "      <td>18445.000000</td>\n",
       "      <td>18445</td>\n",
       "      <td>18445</td>\n",
       "      <td>18445</td>\n",
       "      <td>1.844500e+04</td>\n",
       "    </tr>\n",
       "    <tr>\n",
       "      <th>unique</th>\n",
       "      <td>NaN</td>\n",
       "      <td>NaN</td>\n",
       "      <td>NaN</td>\n",
       "      <td>NaN</td>\n",
       "      <td>7</td>\n",
       "      <td>48</td>\n",
       "      <td>1</td>\n",
       "      <td>NaN</td>\n",
       "    </tr>\n",
       "    <tr>\n",
       "      <th>top</th>\n",
       "      <td>NaN</td>\n",
       "      <td>NaN</td>\n",
       "      <td>NaN</td>\n",
       "      <td>NaN</td>\n",
       "      <td>Detached Duplex</td>\n",
       "      <td>Lekki</td>\n",
       "      <td>Lagos</td>\n",
       "      <td>NaN</td>\n",
       "    </tr>\n",
       "    <tr>\n",
       "      <th>freq</th>\n",
       "      <td>NaN</td>\n",
       "      <td>NaN</td>\n",
       "      <td>NaN</td>\n",
       "      <td>NaN</td>\n",
       "      <td>11802</td>\n",
       "      <td>10841</td>\n",
       "      <td>18445</td>\n",
       "      <td>NaN</td>\n",
       "    </tr>\n",
       "    <tr>\n",
       "      <th>mean</th>\n",
       "      <td>4.409325</td>\n",
       "      <td>4.649119</td>\n",
       "      <td>5.274221</td>\n",
       "      <td>4.037680</td>\n",
       "      <td>NaN</td>\n",
       "      <td>NaN</td>\n",
       "      <td>NaN</td>\n",
       "      <td>3.457721e+08</td>\n",
       "    </tr>\n",
       "    <tr>\n",
       "      <th>std</th>\n",
       "      <td>1.036882</td>\n",
       "      <td>1.067630</td>\n",
       "      <td>1.124706</td>\n",
       "      <td>1.307827</td>\n",
       "      <td>NaN</td>\n",
       "      <td>NaN</td>\n",
       "      <td>NaN</td>\n",
       "      <td>1.399940e+10</td>\n",
       "    </tr>\n",
       "    <tr>\n",
       "      <th>min</th>\n",
       "      <td>1.000000</td>\n",
       "      <td>1.000000</td>\n",
       "      <td>1.000000</td>\n",
       "      <td>1.000000</td>\n",
       "      <td>NaN</td>\n",
       "      <td>NaN</td>\n",
       "      <td>NaN</td>\n",
       "      <td>9.000000e+04</td>\n",
       "    </tr>\n",
       "    <tr>\n",
       "      <th>25%</th>\n",
       "      <td>4.000000</td>\n",
       "      <td>4.000000</td>\n",
       "      <td>5.000000</td>\n",
       "      <td>4.000000</td>\n",
       "      <td>NaN</td>\n",
       "      <td>NaN</td>\n",
       "      <td>NaN</td>\n",
       "      <td>6.000000e+07</td>\n",
       "    </tr>\n",
       "    <tr>\n",
       "      <th>50%</th>\n",
       "      <td>4.000000</td>\n",
       "      <td>5.000000</td>\n",
       "      <td>5.000000</td>\n",
       "      <td>4.000000</td>\n",
       "      <td>NaN</td>\n",
       "      <td>NaN</td>\n",
       "      <td>NaN</td>\n",
       "      <td>9.500000e+07</td>\n",
       "    </tr>\n",
       "    <tr>\n",
       "      <th>75%</th>\n",
       "      <td>5.000000</td>\n",
       "      <td>5.000000</td>\n",
       "      <td>6.000000</td>\n",
       "      <td>4.000000</td>\n",
       "      <td>NaN</td>\n",
       "      <td>NaN</td>\n",
       "      <td>NaN</td>\n",
       "      <td>1.700000e+08</td>\n",
       "    </tr>\n",
       "    <tr>\n",
       "      <th>max</th>\n",
       "      <td>9.000000</td>\n",
       "      <td>9.000000</td>\n",
       "      <td>9.000000</td>\n",
       "      <td>9.000000</td>\n",
       "      <td>NaN</td>\n",
       "      <td>NaN</td>\n",
       "      <td>NaN</td>\n",
       "      <td>1.800000e+12</td>\n",
       "    </tr>\n",
       "  </tbody>\n",
       "</table>\n",
       "</div>"
      ],
      "text/plain": [
       "            bedrooms     bathrooms       toilets  parking_space  \\\n",
       "count   18445.000000  18445.000000  18445.000000   18445.000000   \n",
       "unique           NaN           NaN           NaN            NaN   \n",
       "top              NaN           NaN           NaN            NaN   \n",
       "freq             NaN           NaN           NaN            NaN   \n",
       "mean        4.409325      4.649119      5.274221       4.037680   \n",
       "std         1.036882      1.067630      1.124706       1.307827   \n",
       "min         1.000000      1.000000      1.000000       1.000000   \n",
       "25%         4.000000      4.000000      5.000000       4.000000   \n",
       "50%         4.000000      5.000000      5.000000       4.000000   \n",
       "75%         5.000000      5.000000      6.000000       4.000000   \n",
       "max         9.000000      9.000000      9.000000       9.000000   \n",
       "\n",
       "                  title   town  state         price  \n",
       "count             18445  18445  18445  1.844500e+04  \n",
       "unique                7     48      1           NaN  \n",
       "top     Detached Duplex  Lekki  Lagos           NaN  \n",
       "freq              11802  10841  18445           NaN  \n",
       "mean                NaN    NaN    NaN  3.457721e+08  \n",
       "std                 NaN    NaN    NaN  1.399940e+10  \n",
       "min                 NaN    NaN    NaN  9.000000e+04  \n",
       "25%                 NaN    NaN    NaN  6.000000e+07  \n",
       "50%                 NaN    NaN    NaN  9.500000e+07  \n",
       "75%                 NaN    NaN    NaN  1.700000e+08  \n",
       "max                 NaN    NaN    NaN  1.800000e+12  "
      ]
     },
     "execution_count": 319,
     "metadata": {},
     "output_type": "execute_result"
    }
   ],
   "source": [
    "df.describe(include=\"all\")"
   ]
  },
  {
   "cell_type": "markdown",
   "id": "7fb4678c",
   "metadata": {
    "papermill": {
     "duration": 0.030631,
     "end_time": "2023-12-15T19:01:38.771057",
     "exception": false,
     "start_time": "2023-12-15T19:01:38.740426",
     "status": "completed"
    },
    "tags": []
   },
   "source": [
    "The summary statistics shows that:\n",
    "- The maximum `bedrooms`, `bathrooms`, `parking_space` and `toilets` are 9.\n",
    "- There are 1 `states` in the dataset - Lagos.\n",
    "- There are 7 unique `title` in the dataset.\n",
    "- There are 48 `town` in the dataset.\n",
    "- The highest apartment `price` is over `1,800,000,000,000` naira.\n",
    "- The lowest apartment `price` is `90,000`"
   ]
  },
  {
   "cell_type": "code",
   "execution_count": 320,
   "id": "4e7c860b",
   "metadata": {
    "execution": {
     "iopub.execute_input": "2023-12-15T19:01:38.834853Z",
     "iopub.status.busy": "2023-12-15T19:01:38.834465Z",
     "iopub.status.idle": "2023-12-15T19:01:38.992393Z",
     "shell.execute_reply": "2023-12-15T19:01:38.990853Z"
    },
    "papermill": {
     "duration": 0.193102,
     "end_time": "2023-12-15T19:01:38.995113",
     "exception": false,
     "start_time": "2023-12-15T19:01:38.802011",
     "status": "completed"
    },
    "tags": []
   },
   "outputs": [
    {
     "data": {
      "text/plain": [
       "array(['Lekki', 'Ajah', 'Epe', 'Victoria Island (VI)', 'Ikeja', 'Ikoyi',\n",
       "       'Magodo', 'Ibeju Lekki', 'Yaba', 'Ifako-Ijaiye', 'Agege',\n",
       "       'Ikorodu', 'Isheri North', 'Isheri', 'Ipaja', 'Mushin', 'Ejigbo',\n",
       "       'Isolo', 'Ojodu', 'Alimosho', 'Shomolu', 'Ogudu', 'Surulere',\n",
       "       'Ayobo', 'Ikotun', 'Maryland', 'Gbagada', 'Idimu', 'Ojo', 'Kosofe',\n",
       "       'Ilupeju', 'Ketu', 'Ojota', 'Oshodi', 'Amuwo Odofin', 'Ijede',\n",
       "       'Agbara-Igbesa', 'Ijaiye', 'Apapa', 'Lagos Island', 'Badagry',\n",
       "       'Oke-Odo', 'Egbe', 'Orile', 'Eko Atlantic City', 'Imota', 'Ijesha',\n",
       "       'Ibeju'], dtype=object)"
      ]
     },
     "execution_count": 320,
     "metadata": {},
     "output_type": "execute_result"
    }
   ],
   "source": [
    "#checking the unique towns\n",
    "df[\"town\"].unique()"
   ]
  },
  {
   "cell_type": "code",
   "execution_count": 321,
   "id": "8de80d51",
   "metadata": {
    "execution": {
     "iopub.execute_input": "2023-12-15T19:02:03.909834Z",
     "iopub.status.busy": "2023-12-15T19:02:03.909408Z",
     "iopub.status.idle": "2023-12-15T19:02:03.932405Z",
     "shell.execute_reply": "2023-12-15T19:02:03.930949Z"
    },
    "papermill": {
     "duration": 0.06115,
     "end_time": "2023-12-15T19:02:03.935386",
     "exception": false,
     "start_time": "2023-12-15T19:02:03.874236",
     "status": "completed"
    },
    "tags": []
   },
   "outputs": [
    {
     "name": "stdout",
     "output_type": "stream",
     "text": [
      "<class 'pandas.core.frame.DataFrame'>\n",
      "RangeIndex: 18445 entries, 0 to 18444\n",
      "Data columns (total 8 columns):\n",
      " #   Column         Non-Null Count  Dtype  \n",
      "---  ------         --------------  -----  \n",
      " 0   bedrooms       18445 non-null  float64\n",
      " 1   bathrooms      18445 non-null  float64\n",
      " 2   toilets        18445 non-null  float64\n",
      " 3   parking_space  18445 non-null  float64\n",
      " 4   title          18445 non-null  object \n",
      " 5   town           18445 non-null  object \n",
      " 6   state          18445 non-null  object \n",
      " 7   price          18445 non-null  float64\n",
      "dtypes: float64(5), object(3)\n",
      "memory usage: 1.1+ MB\n"
     ]
    }
   ],
   "source": [
    "df.info()"
   ]
  },
  {
   "cell_type": "markdown",
   "id": "48c44414",
   "metadata": {
    "papermill": {
     "duration": 0.031516,
     "end_time": "2023-12-15T19:02:03.999009",
     "exception": false,
     "start_time": "2023-12-15T19:02:03.967493",
     "status": "completed"
    },
    "tags": []
   },
   "source": [
    "No missing values found in the dataset"
   ]
  },
  {
   "cell_type": "markdown",
   "id": "85d47720",
   "metadata": {
    "papermill": {
     "duration": 0.034907,
     "end_time": "2023-12-15T19:02:04.069289",
     "exception": false,
     "start_time": "2023-12-15T19:02:04.034382",
     "status": "completed"
    },
    "tags": []
   },
   "source": [
    "#### Duplicated Rows"
   ]
  },
  {
   "cell_type": "code",
   "execution_count": 322,
   "id": "922e4201",
   "metadata": {
    "execution": {
     "iopub.execute_input": "2023-12-15T19:02:04.138274Z",
     "iopub.status.busy": "2023-12-15T19:02:04.137075Z",
     "iopub.status.idle": "2023-12-15T19:02:04.172269Z",
     "shell.execute_reply": "2023-12-15T19:02:04.170988Z"
    },
    "papermill": {
     "duration": 0.072986,
     "end_time": "2023-12-15T19:02:04.175449",
     "exception": false,
     "start_time": "2023-12-15T19:02:04.102463",
     "status": "completed"
    },
    "tags": []
   },
   "outputs": [
    {
     "name": "stdout",
     "output_type": "stream",
     "text": [
      "There are 9874 duplicated rows in the dataset\n",
      "Shape with duplicates: (18445, 8)\n",
      "Shape without duplicates: (8571, 8)\n"
     ]
    }
   ],
   "source": [
    "# How many duplicates are there in the dataset\n",
    "print(f\"There are {df.duplicated().sum()} duplicated rows in the dataset\")\n",
    "\n",
    "\n",
    "print(f\"Shape with duplicates: {df.shape}\")\n",
    "\n",
    "# Removing duplicates\n",
    "df = df.drop_duplicates()\n",
    "print(f\"Shape without duplicates: {df.shape}\")"
   ]
  },
  {
   "cell_type": "markdown",
   "id": "fda77628",
   "metadata": {
    "papermill": {
     "duration": 0.033449,
     "end_time": "2023-12-15T19:02:04.240519",
     "exception": false,
     "start_time": "2023-12-15T19:02:04.207070",
     "status": "completed"
    },
    "tags": []
   },
   "source": [
    "#### Exploring outliers: Bedrooms vs Toilets"
   ]
  },
  {
   "cell_type": "code",
   "execution_count": 323,
   "id": "22787dd2",
   "metadata": {
    "execution": {
     "iopub.execute_input": "2023-12-15T19:02:04.306394Z",
     "iopub.status.busy": "2023-12-15T19:02:04.305926Z",
     "iopub.status.idle": "2023-12-15T19:02:04.327569Z",
     "shell.execute_reply": "2023-12-15T19:02:04.326348Z"
    },
    "papermill": {
     "duration": 0.058025,
     "end_time": "2023-12-15T19:02:04.330564",
     "exception": false,
     "start_time": "2023-12-15T19:02:04.272539",
     "status": "completed"
    },
    "tags": []
   },
   "outputs": [
    {
     "data": {
      "text/html": [
       "<div>\n",
       "<style scoped>\n",
       "    .dataframe tbody tr th:only-of-type {\n",
       "        vertical-align: middle;\n",
       "    }\n",
       "\n",
       "    .dataframe tbody tr th {\n",
       "        vertical-align: top;\n",
       "    }\n",
       "\n",
       "    .dataframe thead th {\n",
       "        text-align: right;\n",
       "    }\n",
       "</style>\n",
       "<table border=\"1\" class=\"dataframe\">\n",
       "  <thead>\n",
       "    <tr style=\"text-align: right;\">\n",
       "      <th></th>\n",
       "      <th>bedrooms</th>\n",
       "      <th>bathrooms</th>\n",
       "      <th>toilets</th>\n",
       "      <th>parking_space</th>\n",
       "      <th>title</th>\n",
       "      <th>town</th>\n",
       "      <th>state</th>\n",
       "      <th>price</th>\n",
       "    </tr>\n",
       "  </thead>\n",
       "  <tbody>\n",
       "    <tr>\n",
       "      <th>87</th>\n",
       "      <td>2.0</td>\n",
       "      <td>5.0</td>\n",
       "      <td>9.0</td>\n",
       "      <td>4.0</td>\n",
       "      <td>Detached Bungalow</td>\n",
       "      <td>Ibeju Lekki</td>\n",
       "      <td>Lagos</td>\n",
       "      <td>3.000000e+07</td>\n",
       "    </tr>\n",
       "    <tr>\n",
       "      <th>4236</th>\n",
       "      <td>3.0</td>\n",
       "      <td>9.0</td>\n",
       "      <td>9.0</td>\n",
       "      <td>6.0</td>\n",
       "      <td>Block of Flats</td>\n",
       "      <td>Agege</td>\n",
       "      <td>Lagos</td>\n",
       "      <td>3.500000e+07</td>\n",
       "    </tr>\n",
       "    <tr>\n",
       "      <th>4993</th>\n",
       "      <td>1.0</td>\n",
       "      <td>8.0</td>\n",
       "      <td>9.0</td>\n",
       "      <td>4.0</td>\n",
       "      <td>Detached Duplex</td>\n",
       "      <td>Victoria Island (VI)</td>\n",
       "      <td>Lagos</td>\n",
       "      <td>1.400000e+09</td>\n",
       "    </tr>\n",
       "    <tr>\n",
       "      <th>11308</th>\n",
       "      <td>3.0</td>\n",
       "      <td>9.0</td>\n",
       "      <td>9.0</td>\n",
       "      <td>9.0</td>\n",
       "      <td>Detached Duplex</td>\n",
       "      <td>Ikorodu</td>\n",
       "      <td>Lagos</td>\n",
       "      <td>4.500000e+07</td>\n",
       "    </tr>\n",
       "  </tbody>\n",
       "</table>\n",
       "</div>"
      ],
      "text/plain": [
       "       bedrooms  bathrooms  toilets  parking_space              title  \\\n",
       "87          2.0        5.0      9.0            4.0  Detached Bungalow   \n",
       "4236        3.0        9.0      9.0            6.0     Block of Flats   \n",
       "4993        1.0        8.0      9.0            4.0    Detached Duplex   \n",
       "11308       3.0        9.0      9.0            9.0    Detached Duplex   \n",
       "\n",
       "                       town  state         price  \n",
       "87              Ibeju Lekki  Lagos  3.000000e+07  \n",
       "4236                  Agege  Lagos  3.500000e+07  \n",
       "4993   Victoria Island (VI)  Lagos  1.400000e+09  \n",
       "11308               Ikorodu  Lagos  4.500000e+07  "
      ]
     },
     "execution_count": 323,
     "metadata": {},
     "output_type": "execute_result"
    }
   ],
   "source": [
    "# apartments with less than 4 bedrooms with 9 toilets\n",
    "df[(df['toilets'] == 9) & (df[\"bedrooms\"] < 4) ].head()"
   ]
  },
  {
   "cell_type": "markdown",
   "id": "cb34efe3",
   "metadata": {
    "papermill": {
     "duration": 0.033864,
     "end_time": "2023-12-15T19:02:04.401855",
     "exception": false,
     "start_time": "2023-12-15T19:02:04.367991",
     "status": "completed"
    },
    "tags": []
   },
   "source": [
    "An housing apartment with 4 or less bedrooms having 9 toilets is too extreme."
   ]
  },
  {
   "cell_type": "code",
   "execution_count": 324,
   "id": "fc7c9d6f",
   "metadata": {
    "execution": {
     "iopub.execute_input": "2023-12-15T19:02:04.470427Z",
     "iopub.status.busy": "2023-12-15T19:02:04.469348Z",
     "iopub.status.idle": "2023-12-15T19:02:04.480255Z",
     "shell.execute_reply": "2023-12-15T19:02:04.479352Z"
    },
    "papermill": {
     "duration": 0.048099,
     "end_time": "2023-12-15T19:02:04.482796",
     "exception": false,
     "start_time": "2023-12-15T19:02:04.434697",
     "status": "completed"
    },
    "tags": []
   },
   "outputs": [
    {
     "data": {
      "text/plain": [
       "(8567, 8)"
      ]
     },
     "execution_count": 324,
     "metadata": {},
     "output_type": "execute_result"
    }
   ],
   "source": [
    "# dropping these extreme rows [126, 5574, 6566, 9163, 13501, 14846, 18542, 22614, 23141]\n",
    "df.drop(df[(df['toilets'] == 9) & (df[\"bedrooms\"] < 4)].index.to_list(), axis=0, inplace=True)\n",
    "df.shape"
   ]
  },
  {
   "cell_type": "code",
   "execution_count": 325,
   "id": "0cb82daa",
   "metadata": {
    "execution": {
     "iopub.execute_input": "2023-12-15T19:02:04.551388Z",
     "iopub.status.busy": "2023-12-15T19:02:04.550915Z",
     "iopub.status.idle": "2023-12-15T19:02:04.571682Z",
     "shell.execute_reply": "2023-12-15T19:02:04.570220Z"
    },
    "papermill": {
     "duration": 0.058818,
     "end_time": "2023-12-15T19:02:04.574714",
     "exception": false,
     "start_time": "2023-12-15T19:02:04.515896",
     "status": "completed"
    },
    "tags": []
   },
   "outputs": [
    {
     "data": {
      "text/html": [
       "<div>\n",
       "<style scoped>\n",
       "    .dataframe tbody tr th:only-of-type {\n",
       "        vertical-align: middle;\n",
       "    }\n",
       "\n",
       "    .dataframe tbody tr th {\n",
       "        vertical-align: top;\n",
       "    }\n",
       "\n",
       "    .dataframe thead th {\n",
       "        text-align: right;\n",
       "    }\n",
       "</style>\n",
       "<table border=\"1\" class=\"dataframe\">\n",
       "  <thead>\n",
       "    <tr style=\"text-align: right;\">\n",
       "      <th></th>\n",
       "      <th>bedrooms</th>\n",
       "      <th>bathrooms</th>\n",
       "      <th>toilets</th>\n",
       "      <th>parking_space</th>\n",
       "      <th>title</th>\n",
       "      <th>town</th>\n",
       "      <th>state</th>\n",
       "      <th>price</th>\n",
       "    </tr>\n",
       "  </thead>\n",
       "  <tbody>\n",
       "    <tr>\n",
       "      <th>1863</th>\n",
       "      <td>2.0</td>\n",
       "      <td>8.0</td>\n",
       "      <td>8.0</td>\n",
       "      <td>4.0</td>\n",
       "      <td>Block of Flats</td>\n",
       "      <td>Ajah</td>\n",
       "      <td>Lagos</td>\n",
       "      <td>45000000.0</td>\n",
       "    </tr>\n",
       "    <tr>\n",
       "      <th>11674</th>\n",
       "      <td>2.0</td>\n",
       "      <td>5.0</td>\n",
       "      <td>8.0</td>\n",
       "      <td>4.0</td>\n",
       "      <td>Block of Flats</td>\n",
       "      <td>Agege</td>\n",
       "      <td>Lagos</td>\n",
       "      <td>27999999.0</td>\n",
       "    </tr>\n",
       "    <tr>\n",
       "      <th>12163</th>\n",
       "      <td>1.0</td>\n",
       "      <td>1.0</td>\n",
       "      <td>8.0</td>\n",
       "      <td>1.0</td>\n",
       "      <td>Semi Detached Duplex</td>\n",
       "      <td>Isolo</td>\n",
       "      <td>Lagos</td>\n",
       "      <td>120000000.0</td>\n",
       "    </tr>\n",
       "    <tr>\n",
       "      <th>12915</th>\n",
       "      <td>2.0</td>\n",
       "      <td>8.0</td>\n",
       "      <td>8.0</td>\n",
       "      <td>4.0</td>\n",
       "      <td>Block of Flats</td>\n",
       "      <td>Ketu</td>\n",
       "      <td>Lagos</td>\n",
       "      <td>40000000.0</td>\n",
       "    </tr>\n",
       "    <tr>\n",
       "      <th>15928</th>\n",
       "      <td>1.0</td>\n",
       "      <td>6.0</td>\n",
       "      <td>8.0</td>\n",
       "      <td>4.0</td>\n",
       "      <td>Detached Bungalow</td>\n",
       "      <td>Ikorodu</td>\n",
       "      <td>Lagos</td>\n",
       "      <td>45000000.0</td>\n",
       "    </tr>\n",
       "  </tbody>\n",
       "</table>\n",
       "</div>"
      ],
      "text/plain": [
       "       bedrooms  bathrooms  toilets  parking_space                 title  \\\n",
       "1863        2.0        8.0      8.0            4.0        Block of Flats   \n",
       "11674       2.0        5.0      8.0            4.0        Block of Flats   \n",
       "12163       1.0        1.0      8.0            1.0  Semi Detached Duplex   \n",
       "12915       2.0        8.0      8.0            4.0        Block of Flats   \n",
       "15928       1.0        6.0      8.0            4.0     Detached Bungalow   \n",
       "\n",
       "          town  state        price  \n",
       "1863      Ajah  Lagos   45000000.0  \n",
       "11674    Agege  Lagos   27999999.0  \n",
       "12163    Isolo  Lagos  120000000.0  \n",
       "12915     Ketu  Lagos   40000000.0  \n",
       "15928  Ikorodu  Lagos   45000000.0  "
      ]
     },
     "execution_count": 325,
     "metadata": {},
     "output_type": "execute_result"
    }
   ],
   "source": [
    "# apartments with less than 3 bedrooms with 8 toilets\n",
    "df[(df['toilets'] == 8) & (df[\"bedrooms\"] < 3) ].head()"
   ]
  },
  {
   "cell_type": "code",
   "execution_count": 326,
   "id": "96d0667d",
   "metadata": {
    "execution": {
     "iopub.execute_input": "2023-12-15T19:02:04.644727Z",
     "iopub.status.busy": "2023-12-15T19:02:04.644279Z",
     "iopub.status.idle": "2023-12-15T19:02:04.656925Z",
     "shell.execute_reply": "2023-12-15T19:02:04.655831Z"
    },
    "papermill": {
     "duration": 0.050643,
     "end_time": "2023-12-15T19:02:04.659592",
     "exception": false,
     "start_time": "2023-12-15T19:02:04.608949",
     "status": "completed"
    },
    "tags": []
   },
   "outputs": [
    {
     "data": {
      "text/plain": [
       "(8561, 8)"
      ]
     },
     "execution_count": 326,
     "metadata": {},
     "output_type": "execute_result"
    }
   ],
   "source": [
    "# dropping these extreme rows [ 2525,  4169,  4176, 13626, 14047, 14263, 14675, 15333, 15965, 16971, 18217, 20737, 20947, 21264]\n",
    "df.drop(df[(df['toilets'] == 8) & (df[\"bedrooms\"] < 3) ].index.to_list(), axis=0, inplace=True)\n",
    "df.shape"
   ]
  },
  {
   "cell_type": "code",
   "execution_count": 327,
   "id": "782acb2f",
   "metadata": {
    "execution": {
     "iopub.execute_input": "2023-12-15T19:02:04.727065Z",
     "iopub.status.busy": "2023-12-15T19:02:04.726667Z",
     "iopub.status.idle": "2023-12-15T19:02:04.744814Z",
     "shell.execute_reply": "2023-12-15T19:02:04.743406Z"
    },
    "papermill": {
     "duration": 0.055129,
     "end_time": "2023-12-15T19:02:04.747612",
     "exception": false,
     "start_time": "2023-12-15T19:02:04.692483",
     "status": "completed"
    },
    "tags": []
   },
   "outputs": [
    {
     "data": {
      "text/html": [
       "<div>\n",
       "<style scoped>\n",
       "    .dataframe tbody tr th:only-of-type {\n",
       "        vertical-align: middle;\n",
       "    }\n",
       "\n",
       "    .dataframe tbody tr th {\n",
       "        vertical-align: top;\n",
       "    }\n",
       "\n",
       "    .dataframe thead th {\n",
       "        text-align: right;\n",
       "    }\n",
       "</style>\n",
       "<table border=\"1\" class=\"dataframe\">\n",
       "  <thead>\n",
       "    <tr style=\"text-align: right;\">\n",
       "      <th></th>\n",
       "      <th>bedrooms</th>\n",
       "      <th>bathrooms</th>\n",
       "      <th>toilets</th>\n",
       "      <th>parking_space</th>\n",
       "      <th>title</th>\n",
       "      <th>town</th>\n",
       "      <th>state</th>\n",
       "      <th>price</th>\n",
       "    </tr>\n",
       "  </thead>\n",
       "  <tbody>\n",
       "    <tr>\n",
       "      <th>11358</th>\n",
       "      <td>1.0</td>\n",
       "      <td>7.0</td>\n",
       "      <td>7.0</td>\n",
       "      <td>1.0</td>\n",
       "      <td>Terraced Bungalow</td>\n",
       "      <td>Alimosho</td>\n",
       "      <td>Lagos</td>\n",
       "      <td>80000000.0</td>\n",
       "    </tr>\n",
       "  </tbody>\n",
       "</table>\n",
       "</div>"
      ],
      "text/plain": [
       "       bedrooms  bathrooms  toilets  parking_space              title  \\\n",
       "11358       1.0        7.0      7.0            1.0  Terraced Bungalow   \n",
       "\n",
       "           town  state       price  \n",
       "11358  Alimosho  Lagos  80000000.0  "
      ]
     },
     "execution_count": 327,
     "metadata": {},
     "output_type": "execute_result"
    }
   ],
   "source": [
    "# apartments with less than 3 bedrooms with 7 toilets\n",
    "df[(df['toilets'] == 7) & (df[\"bedrooms\"] < 3) ].head()"
   ]
  },
  {
   "cell_type": "code",
   "execution_count": 328,
   "id": "9f64f412",
   "metadata": {
    "execution": {
     "iopub.execute_input": "2023-12-15T19:02:04.817289Z",
     "iopub.status.busy": "2023-12-15T19:02:04.816813Z",
     "iopub.status.idle": "2023-12-15T19:02:04.829162Z",
     "shell.execute_reply": "2023-12-15T19:02:04.827974Z"
    },
    "papermill": {
     "duration": 0.050851,
     "end_time": "2023-12-15T19:02:04.832085",
     "exception": false,
     "start_time": "2023-12-15T19:02:04.781234",
     "status": "completed"
    },
    "tags": []
   },
   "outputs": [
    {
     "data": {
      "text/plain": [
       "(8560, 8)"
      ]
     },
     "execution_count": 328,
     "metadata": {},
     "output_type": "execute_result"
    }
   ],
   "source": [
    "# dropping this extreme row 14917\n",
    "df.drop(df[(df['toilets'] ==7) & (df[\"bedrooms\"] < 3) ].index.to_list(), axis=0, inplace=True)\n",
    "df.shape"
   ]
  },
  {
   "cell_type": "code",
   "execution_count": 329,
   "id": "bb1b4c83",
   "metadata": {
    "execution": {
     "iopub.execute_input": "2023-12-15T19:02:04.908211Z",
     "iopub.status.busy": "2023-12-15T19:02:04.907780Z",
     "iopub.status.idle": "2023-12-15T19:02:04.925039Z",
     "shell.execute_reply": "2023-12-15T19:02:04.923935Z"
    },
    "papermill": {
     "duration": 0.060375,
     "end_time": "2023-12-15T19:02:04.927697",
     "exception": false,
     "start_time": "2023-12-15T19:02:04.867322",
     "status": "completed"
    },
    "tags": []
   },
   "outputs": [
    {
     "data": {
      "text/html": [
       "<div>\n",
       "<style scoped>\n",
       "    .dataframe tbody tr th:only-of-type {\n",
       "        vertical-align: middle;\n",
       "    }\n",
       "\n",
       "    .dataframe tbody tr th {\n",
       "        vertical-align: top;\n",
       "    }\n",
       "\n",
       "    .dataframe thead th {\n",
       "        text-align: right;\n",
       "    }\n",
       "</style>\n",
       "<table border=\"1\" class=\"dataframe\">\n",
       "  <thead>\n",
       "    <tr style=\"text-align: right;\">\n",
       "      <th></th>\n",
       "      <th>bedrooms</th>\n",
       "      <th>bathrooms</th>\n",
       "      <th>toilets</th>\n",
       "      <th>parking_space</th>\n",
       "      <th>title</th>\n",
       "      <th>town</th>\n",
       "      <th>state</th>\n",
       "      <th>price</th>\n",
       "    </tr>\n",
       "  </thead>\n",
       "  <tbody>\n",
       "  </tbody>\n",
       "</table>\n",
       "</div>"
      ],
      "text/plain": [
       "Empty DataFrame\n",
       "Columns: [bedrooms, bathrooms, toilets, parking_space, title, town, state, price]\n",
       "Index: []"
      ]
     },
     "execution_count": 329,
     "metadata": {},
     "output_type": "execute_result"
    }
   ],
   "source": [
    "# apartments with less than 2 bedrooms with 6 toilets\n",
    "df[(df['toilets'] == 6) & (df[\"bedrooms\"] < 2)].head()"
   ]
  },
  {
   "cell_type": "code",
   "execution_count": 330,
   "id": "5cd0d608",
   "metadata": {
    "execution": {
     "iopub.execute_input": "2023-12-15T19:02:04.997151Z",
     "iopub.status.busy": "2023-12-15T19:02:04.996723Z",
     "iopub.status.idle": "2023-12-15T19:02:05.008666Z",
     "shell.execute_reply": "2023-12-15T19:02:05.007526Z"
    },
    "papermill": {
     "duration": 0.049973,
     "end_time": "2023-12-15T19:02:05.011239",
     "exception": false,
     "start_time": "2023-12-15T19:02:04.961266",
     "status": "completed"
    },
    "tags": []
   },
   "outputs": [
    {
     "data": {
      "text/plain": [
       "(8560, 8)"
      ]
     },
     "execution_count": 330,
     "metadata": {},
     "output_type": "execute_result"
    }
   ],
   "source": [
    "# dropping this extreme row 7287\n",
    "df.drop(df[(df['toilets'] == 6) & (df[\"bedrooms\"] < 2) ].index.to_list(), axis=0, inplace=True)\n",
    "df.shape"
   ]
  },
  {
   "cell_type": "code",
   "execution_count": 331,
   "id": "9c720b9a",
   "metadata": {
    "execution": {
     "iopub.execute_input": "2023-12-15T19:02:05.092022Z",
     "iopub.status.busy": "2023-12-15T19:02:05.091631Z",
     "iopub.status.idle": "2023-12-15T19:02:05.120849Z",
     "shell.execute_reply": "2023-12-15T19:02:05.119076Z"
    },
    "papermill": {
     "duration": 0.078357,
     "end_time": "2023-12-15T19:02:05.124707",
     "exception": false,
     "start_time": "2023-12-15T19:02:05.046350",
     "status": "completed"
    },
    "tags": []
   },
   "outputs": [
    {
     "data": {
      "text/html": [
       "<div>\n",
       "<style scoped>\n",
       "    .dataframe tbody tr th:only-of-type {\n",
       "        vertical-align: middle;\n",
       "    }\n",
       "\n",
       "    .dataframe tbody tr th {\n",
       "        vertical-align: top;\n",
       "    }\n",
       "\n",
       "    .dataframe thead th {\n",
       "        text-align: right;\n",
       "    }\n",
       "</style>\n",
       "<table border=\"1\" class=\"dataframe\">\n",
       "  <thead>\n",
       "    <tr style=\"text-align: right;\">\n",
       "      <th></th>\n",
       "      <th>bedrooms</th>\n",
       "      <th>bathrooms</th>\n",
       "      <th>toilets</th>\n",
       "      <th>parking_space</th>\n",
       "      <th>title</th>\n",
       "      <th>town</th>\n",
       "      <th>state</th>\n",
       "      <th>price</th>\n",
       "    </tr>\n",
       "  </thead>\n",
       "  <tbody>\n",
       "    <tr>\n",
       "      <th>131</th>\n",
       "      <td>9.0</td>\n",
       "      <td>9.0</td>\n",
       "      <td>1.0</td>\n",
       "      <td>1.0</td>\n",
       "      <td>Detached Duplex</td>\n",
       "      <td>Isolo</td>\n",
       "      <td>Lagos</td>\n",
       "      <td>7.000000e+07</td>\n",
       "    </tr>\n",
       "    <tr>\n",
       "      <th>267</th>\n",
       "      <td>9.0</td>\n",
       "      <td>9.0</td>\n",
       "      <td>1.0</td>\n",
       "      <td>8.0</td>\n",
       "      <td>Detached Duplex</td>\n",
       "      <td>Lekki</td>\n",
       "      <td>Lagos</td>\n",
       "      <td>2.500000e+08</td>\n",
       "    </tr>\n",
       "    <tr>\n",
       "      <th>530</th>\n",
       "      <td>9.0</td>\n",
       "      <td>9.0</td>\n",
       "      <td>1.0</td>\n",
       "      <td>4.0</td>\n",
       "      <td>Detached Duplex</td>\n",
       "      <td>Surulere</td>\n",
       "      <td>Lagos</td>\n",
       "      <td>9.500000e+07</td>\n",
       "    </tr>\n",
       "    <tr>\n",
       "      <th>675</th>\n",
       "      <td>9.0</td>\n",
       "      <td>9.0</td>\n",
       "      <td>1.0</td>\n",
       "      <td>4.0</td>\n",
       "      <td>Detached Duplex</td>\n",
       "      <td>Lekki</td>\n",
       "      <td>Lagos</td>\n",
       "      <td>3.200000e+08</td>\n",
       "    </tr>\n",
       "    <tr>\n",
       "      <th>1288</th>\n",
       "      <td>9.0</td>\n",
       "      <td>9.0</td>\n",
       "      <td>1.0</td>\n",
       "      <td>6.0</td>\n",
       "      <td>Detached Duplex</td>\n",
       "      <td>Ikoyi</td>\n",
       "      <td>Lagos</td>\n",
       "      <td>1.500000e+09</td>\n",
       "    </tr>\n",
       "  </tbody>\n",
       "</table>\n",
       "</div>"
      ],
      "text/plain": [
       "      bedrooms  bathrooms  toilets  parking_space            title      town  \\\n",
       "131        9.0        9.0      1.0            1.0  Detached Duplex     Isolo   \n",
       "267        9.0        9.0      1.0            8.0  Detached Duplex     Lekki   \n",
       "530        9.0        9.0      1.0            4.0  Detached Duplex  Surulere   \n",
       "675        9.0        9.0      1.0            4.0  Detached Duplex     Lekki   \n",
       "1288       9.0        9.0      1.0            6.0  Detached Duplex     Ikoyi   \n",
       "\n",
       "      state         price  \n",
       "131   Lagos  7.000000e+07  \n",
       "267   Lagos  2.500000e+08  \n",
       "530   Lagos  9.500000e+07  \n",
       "675   Lagos  3.200000e+08  \n",
       "1288  Lagos  1.500000e+09  "
      ]
     },
     "execution_count": 331,
     "metadata": {},
     "output_type": "execute_result"
    }
   ],
   "source": [
    "# apartments with 9 bedrooms having less than 4 toilets\n",
    "df[(df['bedrooms'] == 9) & (df[\"toilets\"] < 4)].head()"
   ]
  },
  {
   "cell_type": "markdown",
   "id": "b023ce11",
   "metadata": {
    "papermill": {
     "duration": 0.034304,
     "end_time": "2023-12-15T19:02:05.201298",
     "exception": false,
     "start_time": "2023-12-15T19:02:05.166994",
     "status": "completed"
    },
    "tags": []
   },
   "source": [
    "These records are extreme. An housing apartments with 9 `bedrooms` but having less than 4 toilets?!"
   ]
  },
  {
   "cell_type": "code",
   "execution_count": 332,
   "id": "e8f58bda",
   "metadata": {
    "execution": {
     "iopub.execute_input": "2023-12-15T19:02:05.273389Z",
     "iopub.status.busy": "2023-12-15T19:02:05.272544Z",
     "iopub.status.idle": "2023-12-15T19:02:05.284311Z",
     "shell.execute_reply": "2023-12-15T19:02:05.282964Z"
    },
    "papermill": {
     "duration": 0.050918,
     "end_time": "2023-12-15T19:02:05.286943",
     "exception": false,
     "start_time": "2023-12-15T19:02:05.236025",
     "status": "completed"
    },
    "tags": []
   },
   "outputs": [
    {
     "data": {
      "text/plain": [
       "(8539, 8)"
      ]
     },
     "execution_count": 332,
     "metadata": {},
     "output_type": "execute_result"
    }
   ],
   "source": [
    "# dropping these extreme rows\n",
    "df.drop(df[(df['bedrooms'] == 9) & (df[\"toilets\"] < 4)].index.to_list(), axis=0, inplace=True)\n",
    "df.shape"
   ]
  },
  {
   "cell_type": "code",
   "execution_count": 333,
   "id": "c08e28b7",
   "metadata": {
    "execution": {
     "iopub.execute_input": "2023-12-15T19:02:05.359161Z",
     "iopub.status.busy": "2023-12-15T19:02:05.358734Z",
     "iopub.status.idle": "2023-12-15T19:02:05.380508Z",
     "shell.execute_reply": "2023-12-15T19:02:05.379199Z"
    },
    "papermill": {
     "duration": 0.062426,
     "end_time": "2023-12-15T19:02:05.383421",
     "exception": false,
     "start_time": "2023-12-15T19:02:05.320995",
     "status": "completed"
    },
    "tags": []
   },
   "outputs": [
    {
     "data": {
      "text/html": [
       "<div>\n",
       "<style scoped>\n",
       "    .dataframe tbody tr th:only-of-type {\n",
       "        vertical-align: middle;\n",
       "    }\n",
       "\n",
       "    .dataframe tbody tr th {\n",
       "        vertical-align: top;\n",
       "    }\n",
       "\n",
       "    .dataframe thead th {\n",
       "        text-align: right;\n",
       "    }\n",
       "</style>\n",
       "<table border=\"1\" class=\"dataframe\">\n",
       "  <thead>\n",
       "    <tr style=\"text-align: right;\">\n",
       "      <th></th>\n",
       "      <th>bedrooms</th>\n",
       "      <th>bathrooms</th>\n",
       "      <th>toilets</th>\n",
       "      <th>parking_space</th>\n",
       "      <th>title</th>\n",
       "      <th>town</th>\n",
       "      <th>state</th>\n",
       "      <th>price</th>\n",
       "    </tr>\n",
       "  </thead>\n",
       "  <tbody>\n",
       "    <tr>\n",
       "      <th>2473</th>\n",
       "      <td>8.0</td>\n",
       "      <td>8.0</td>\n",
       "      <td>1.0</td>\n",
       "      <td>5.0</td>\n",
       "      <td>Detached Duplex</td>\n",
       "      <td>Ajah</td>\n",
       "      <td>Lagos</td>\n",
       "      <td>40000000.0</td>\n",
       "    </tr>\n",
       "    <tr>\n",
       "      <th>5467</th>\n",
       "      <td>8.0</td>\n",
       "      <td>8.0</td>\n",
       "      <td>1.0</td>\n",
       "      <td>1.0</td>\n",
       "      <td>Detached Duplex</td>\n",
       "      <td>Ikoyi</td>\n",
       "      <td>Lagos</td>\n",
       "      <td>750000000.0</td>\n",
       "    </tr>\n",
       "    <tr>\n",
       "      <th>5820</th>\n",
       "      <td>8.0</td>\n",
       "      <td>1.0</td>\n",
       "      <td>1.0</td>\n",
       "      <td>1.0</td>\n",
       "      <td>Block of Flats</td>\n",
       "      <td>Ajah</td>\n",
       "      <td>Lagos</td>\n",
       "      <td>65000000.0</td>\n",
       "    </tr>\n",
       "    <tr>\n",
       "      <th>6689</th>\n",
       "      <td>8.0</td>\n",
       "      <td>1.0</td>\n",
       "      <td>1.0</td>\n",
       "      <td>2.0</td>\n",
       "      <td>Detached Duplex</td>\n",
       "      <td>Victoria Island (VI)</td>\n",
       "      <td>Lagos</td>\n",
       "      <td>380000000.0</td>\n",
       "    </tr>\n",
       "    <tr>\n",
       "      <th>9052</th>\n",
       "      <td>8.0</td>\n",
       "      <td>8.0</td>\n",
       "      <td>1.0</td>\n",
       "      <td>4.0</td>\n",
       "      <td>Detached Duplex</td>\n",
       "      <td>Ikoyi</td>\n",
       "      <td>Lagos</td>\n",
       "      <td>650000000.0</td>\n",
       "    </tr>\n",
       "  </tbody>\n",
       "</table>\n",
       "</div>"
      ],
      "text/plain": [
       "      bedrooms  bathrooms  toilets  parking_space            title  \\\n",
       "2473       8.0        8.0      1.0            5.0  Detached Duplex   \n",
       "5467       8.0        8.0      1.0            1.0  Detached Duplex   \n",
       "5820       8.0        1.0      1.0            1.0   Block of Flats   \n",
       "6689       8.0        1.0      1.0            2.0  Detached Duplex   \n",
       "9052       8.0        8.0      1.0            4.0  Detached Duplex   \n",
       "\n",
       "                      town  state        price  \n",
       "2473                  Ajah  Lagos   40000000.0  \n",
       "5467                 Ikoyi  Lagos  750000000.0  \n",
       "5820                  Ajah  Lagos   65000000.0  \n",
       "6689  Victoria Island (VI)  Lagos  380000000.0  \n",
       "9052                 Ikoyi  Lagos  650000000.0  "
      ]
     },
     "execution_count": 333,
     "metadata": {},
     "output_type": "execute_result"
    }
   ],
   "source": [
    "# apartments with 8 bedrooms having less than 3 toilets\n",
    "df[(df['bedrooms'] == 8) & (df[\"toilets\"] <3)].head()"
   ]
  },
  {
   "cell_type": "code",
   "execution_count": 334,
   "id": "67a426a0",
   "metadata": {
    "execution": {
     "iopub.execute_input": "2023-12-15T19:02:05.458790Z",
     "iopub.status.busy": "2023-12-15T19:02:05.458375Z",
     "iopub.status.idle": "2023-12-15T19:02:05.472178Z",
     "shell.execute_reply": "2023-12-15T19:02:05.470939Z"
    },
    "papermill": {
     "duration": 0.054233,
     "end_time": "2023-12-15T19:02:05.475086",
     "exception": false,
     "start_time": "2023-12-15T19:02:05.420853",
     "status": "completed"
    },
    "tags": []
   },
   "outputs": [
    {
     "data": {
      "text/plain": [
       "(8529, 8)"
      ]
     },
     "execution_count": 334,
     "metadata": {},
     "output_type": "execute_result"
    }
   ],
   "source": [
    "# dropping these extreme rows\n",
    "df.drop(df[(df['bedrooms'] == 8) & (df[\"toilets\"] < 4)].index.to_list(), axis=0, inplace=True)\n",
    "df.shape"
   ]
  },
  {
   "cell_type": "code",
   "execution_count": 335,
   "id": "140d9921",
   "metadata": {
    "execution": {
     "iopub.execute_input": "2023-12-15T19:02:05.547003Z",
     "iopub.status.busy": "2023-12-15T19:02:05.546590Z",
     "iopub.status.idle": "2023-12-15T19:02:05.569142Z",
     "shell.execute_reply": "2023-12-15T19:02:05.567738Z"
    },
    "papermill": {
     "duration": 0.062431,
     "end_time": "2023-12-15T19:02:05.571828",
     "exception": false,
     "start_time": "2023-12-15T19:02:05.509397",
     "status": "completed"
    },
    "tags": []
   },
   "outputs": [
    {
     "data": {
      "text/html": [
       "<div>\n",
       "<style scoped>\n",
       "    .dataframe tbody tr th:only-of-type {\n",
       "        vertical-align: middle;\n",
       "    }\n",
       "\n",
       "    .dataframe tbody tr th {\n",
       "        vertical-align: top;\n",
       "    }\n",
       "\n",
       "    .dataframe thead th {\n",
       "        text-align: right;\n",
       "    }\n",
       "</style>\n",
       "<table border=\"1\" class=\"dataframe\">\n",
       "  <thead>\n",
       "    <tr style=\"text-align: right;\">\n",
       "      <th></th>\n",
       "      <th>bedrooms</th>\n",
       "      <th>bathrooms</th>\n",
       "      <th>toilets</th>\n",
       "      <th>parking_space</th>\n",
       "      <th>title</th>\n",
       "      <th>town</th>\n",
       "      <th>state</th>\n",
       "      <th>price</th>\n",
       "    </tr>\n",
       "  </thead>\n",
       "  <tbody>\n",
       "    <tr>\n",
       "      <th>735</th>\n",
       "      <td>7.0</td>\n",
       "      <td>7.0</td>\n",
       "      <td>1.0</td>\n",
       "      <td>6.0</td>\n",
       "      <td>Detached Duplex</td>\n",
       "      <td>Ojo</td>\n",
       "      <td>Lagos</td>\n",
       "      <td>2.500000e+07</td>\n",
       "    </tr>\n",
       "    <tr>\n",
       "      <th>3153</th>\n",
       "      <td>7.0</td>\n",
       "      <td>7.0</td>\n",
       "      <td>1.0</td>\n",
       "      <td>1.0</td>\n",
       "      <td>Detached Duplex</td>\n",
       "      <td>Ikeja</td>\n",
       "      <td>Lagos</td>\n",
       "      <td>7.000000e+08</td>\n",
       "    </tr>\n",
       "    <tr>\n",
       "      <th>5096</th>\n",
       "      <td>7.0</td>\n",
       "      <td>9.0</td>\n",
       "      <td>1.0</td>\n",
       "      <td>1.0</td>\n",
       "      <td>Detached Duplex</td>\n",
       "      <td>Ikoyi</td>\n",
       "      <td>Lagos</td>\n",
       "      <td>1.000000e+09</td>\n",
       "    </tr>\n",
       "    <tr>\n",
       "      <th>5391</th>\n",
       "      <td>7.0</td>\n",
       "      <td>5.0</td>\n",
       "      <td>1.0</td>\n",
       "      <td>2.0</td>\n",
       "      <td>Detached Duplex</td>\n",
       "      <td>Lekki</td>\n",
       "      <td>Lagos</td>\n",
       "      <td>2.700000e+08</td>\n",
       "    </tr>\n",
       "    <tr>\n",
       "      <th>7304</th>\n",
       "      <td>7.0</td>\n",
       "      <td>5.0</td>\n",
       "      <td>1.0</td>\n",
       "      <td>4.0</td>\n",
       "      <td>Detached Duplex</td>\n",
       "      <td>Ajah</td>\n",
       "      <td>Lagos</td>\n",
       "      <td>4.500000e+07</td>\n",
       "    </tr>\n",
       "  </tbody>\n",
       "</table>\n",
       "</div>"
      ],
      "text/plain": [
       "      bedrooms  bathrooms  toilets  parking_space            title   town  \\\n",
       "735        7.0        7.0      1.0            6.0  Detached Duplex    Ojo   \n",
       "3153       7.0        7.0      1.0            1.0  Detached Duplex  Ikeja   \n",
       "5096       7.0        9.0      1.0            1.0  Detached Duplex  Ikoyi   \n",
       "5391       7.0        5.0      1.0            2.0  Detached Duplex  Lekki   \n",
       "7304       7.0        5.0      1.0            4.0  Detached Duplex   Ajah   \n",
       "\n",
       "      state         price  \n",
       "735   Lagos  2.500000e+07  \n",
       "3153  Lagos  7.000000e+08  \n",
       "5096  Lagos  1.000000e+09  \n",
       "5391  Lagos  2.700000e+08  \n",
       "7304  Lagos  4.500000e+07  "
      ]
     },
     "execution_count": 335,
     "metadata": {},
     "output_type": "execute_result"
    }
   ],
   "source": [
    "# apartments with 7 bedrooms having less than 3 toilets\n",
    "df[(df['bedrooms'] == 7) & (df[\"toilets\"] <3)].head()"
   ]
  },
  {
   "cell_type": "code",
   "execution_count": 336,
   "id": "b83324b5",
   "metadata": {
    "execution": {
     "iopub.execute_input": "2023-12-15T19:02:05.643372Z",
     "iopub.status.busy": "2023-12-15T19:02:05.642945Z",
     "iopub.status.idle": "2023-12-15T19:02:05.655514Z",
     "shell.execute_reply": "2023-12-15T19:02:05.654103Z"
    },
    "papermill": {
     "duration": 0.051677,
     "end_time": "2023-12-15T19:02:05.658241",
     "exception": false,
     "start_time": "2023-12-15T19:02:05.606564",
     "status": "completed"
    },
    "tags": []
   },
   "outputs": [
    {
     "data": {
      "text/plain": [
       "(8522, 8)"
      ]
     },
     "execution_count": 336,
     "metadata": {},
     "output_type": "execute_result"
    }
   ],
   "source": [
    "# dropping these extreme rows\n",
    "df.drop(df[(df['bedrooms'] == 7) & (df[\"toilets\"] < 3)].index.to_list(), axis=0, inplace=True)\n",
    "df.shape"
   ]
  },
  {
   "cell_type": "code",
   "execution_count": 337,
   "id": "9cc3fbbd",
   "metadata": {
    "execution": {
     "iopub.execute_input": "2023-12-15T19:02:05.730191Z",
     "iopub.status.busy": "2023-12-15T19:02:05.729716Z",
     "iopub.status.idle": "2023-12-15T19:02:05.753142Z",
     "shell.execute_reply": "2023-12-15T19:02:05.751784Z"
    },
    "papermill": {
     "duration": 0.062554,
     "end_time": "2023-12-15T19:02:05.755748",
     "exception": false,
     "start_time": "2023-12-15T19:02:05.693194",
     "status": "completed"
    },
    "tags": []
   },
   "outputs": [
    {
     "data": {
      "text/html": [
       "<div>\n",
       "<style scoped>\n",
       "    .dataframe tbody tr th:only-of-type {\n",
       "        vertical-align: middle;\n",
       "    }\n",
       "\n",
       "    .dataframe tbody tr th {\n",
       "        vertical-align: top;\n",
       "    }\n",
       "\n",
       "    .dataframe thead th {\n",
       "        text-align: right;\n",
       "    }\n",
       "</style>\n",
       "<table border=\"1\" class=\"dataframe\">\n",
       "  <thead>\n",
       "    <tr style=\"text-align: right;\">\n",
       "      <th></th>\n",
       "      <th>bedrooms</th>\n",
       "      <th>bathrooms</th>\n",
       "      <th>toilets</th>\n",
       "      <th>parking_space</th>\n",
       "      <th>title</th>\n",
       "      <th>town</th>\n",
       "      <th>state</th>\n",
       "      <th>price</th>\n",
       "    </tr>\n",
       "  </thead>\n",
       "  <tbody>\n",
       "    <tr>\n",
       "      <th>3823</th>\n",
       "      <td>6.0</td>\n",
       "      <td>1.0</td>\n",
       "      <td>1.0</td>\n",
       "      <td>5.0</td>\n",
       "      <td>Detached Duplex</td>\n",
       "      <td>Isheri North</td>\n",
       "      <td>Lagos</td>\n",
       "      <td>140000000.0</td>\n",
       "    </tr>\n",
       "    <tr>\n",
       "      <th>4265</th>\n",
       "      <td>6.0</td>\n",
       "      <td>1.0</td>\n",
       "      <td>1.0</td>\n",
       "      <td>1.0</td>\n",
       "      <td>Detached Duplex</td>\n",
       "      <td>Ikeja</td>\n",
       "      <td>Lagos</td>\n",
       "      <td>490000000.0</td>\n",
       "    </tr>\n",
       "    <tr>\n",
       "      <th>4399</th>\n",
       "      <td>6.0</td>\n",
       "      <td>2.0</td>\n",
       "      <td>2.0</td>\n",
       "      <td>6.0</td>\n",
       "      <td>Detached Bungalow</td>\n",
       "      <td>Idimu</td>\n",
       "      <td>Lagos</td>\n",
       "      <td>10000000.0</td>\n",
       "    </tr>\n",
       "    <tr>\n",
       "      <th>6340</th>\n",
       "      <td>6.0</td>\n",
       "      <td>2.0</td>\n",
       "      <td>2.0</td>\n",
       "      <td>8.0</td>\n",
       "      <td>Detached Bungalow</td>\n",
       "      <td>Alimosho</td>\n",
       "      <td>Lagos</td>\n",
       "      <td>15000000.0</td>\n",
       "    </tr>\n",
       "    <tr>\n",
       "      <th>9304</th>\n",
       "      <td>6.0</td>\n",
       "      <td>8.0</td>\n",
       "      <td>1.0</td>\n",
       "      <td>1.0</td>\n",
       "      <td>Detached Duplex</td>\n",
       "      <td>Isheri North</td>\n",
       "      <td>Lagos</td>\n",
       "      <td>150000000.0</td>\n",
       "    </tr>\n",
       "  </tbody>\n",
       "</table>\n",
       "</div>"
      ],
      "text/plain": [
       "      bedrooms  bathrooms  toilets  parking_space              title  \\\n",
       "3823       6.0        1.0      1.0            5.0    Detached Duplex   \n",
       "4265       6.0        1.0      1.0            1.0    Detached Duplex   \n",
       "4399       6.0        2.0      2.0            6.0  Detached Bungalow   \n",
       "6340       6.0        2.0      2.0            8.0  Detached Bungalow   \n",
       "9304       6.0        8.0      1.0            1.0    Detached Duplex   \n",
       "\n",
       "              town  state        price  \n",
       "3823  Isheri North  Lagos  140000000.0  \n",
       "4265         Ikeja  Lagos  490000000.0  \n",
       "4399         Idimu  Lagos   10000000.0  \n",
       "6340      Alimosho  Lagos   15000000.0  \n",
       "9304  Isheri North  Lagos  150000000.0  "
      ]
     },
     "execution_count": 337,
     "metadata": {},
     "output_type": "execute_result"
    }
   ],
   "source": [
    "# apartments with 6 bedrooms having less than 3 toilets\n",
    "df[(df['bedrooms'] == 6) & (df[\"toilets\"] <3)].head()"
   ]
  },
  {
   "cell_type": "code",
   "execution_count": 338,
   "id": "54f5bfb3",
   "metadata": {
    "execution": {
     "iopub.execute_input": "2023-12-15T19:02:05.828393Z",
     "iopub.status.busy": "2023-12-15T19:02:05.827945Z",
     "iopub.status.idle": "2023-12-15T19:02:05.841615Z",
     "shell.execute_reply": "2023-12-15T19:02:05.840659Z"
    },
    "papermill": {
     "duration": 0.052954,
     "end_time": "2023-12-15T19:02:05.844327",
     "exception": false,
     "start_time": "2023-12-15T19:02:05.791373",
     "status": "completed"
    },
    "tags": []
   },
   "outputs": [
    {
     "data": {
      "text/plain": [
       "(8511, 8)"
      ]
     },
     "execution_count": 338,
     "metadata": {},
     "output_type": "execute_result"
    }
   ],
   "source": [
    "# dropping these extreme rows\n",
    "df.drop(df[(df['bedrooms'] == 6) & (df[\"toilets\"] < 3)].index.to_list(), axis=0, inplace=True)\n",
    "df.shape"
   ]
  },
  {
   "cell_type": "markdown",
   "id": "152bf7bc",
   "metadata": {
    "papermill": {
     "duration": 0.035134,
     "end_time": "2023-12-15T19:02:05.914917",
     "exception": false,
     "start_time": "2023-12-15T19:02:05.879783",
     "status": "completed"
    },
    "tags": []
   },
   "source": [
    "#### Exploring outliers: Bedrooms vs Bathrooms"
   ]
  },
  {
   "cell_type": "code",
   "execution_count": 339,
   "id": "2a7b6476",
   "metadata": {
    "execution": {
     "iopub.execute_input": "2023-12-15T19:02:05.987747Z",
     "iopub.status.busy": "2023-12-15T19:02:05.987305Z",
     "iopub.status.idle": "2023-12-15T19:02:06.005252Z",
     "shell.execute_reply": "2023-12-15T19:02:06.003916Z"
    },
    "papermill": {
     "duration": 0.057618,
     "end_time": "2023-12-15T19:02:06.007798",
     "exception": false,
     "start_time": "2023-12-15T19:02:05.950180",
     "status": "completed"
    },
    "tags": []
   },
   "outputs": [
    {
     "data": {
      "text/html": [
       "<div>\n",
       "<style scoped>\n",
       "    .dataframe tbody tr th:only-of-type {\n",
       "        vertical-align: middle;\n",
       "    }\n",
       "\n",
       "    .dataframe tbody tr th {\n",
       "        vertical-align: top;\n",
       "    }\n",
       "\n",
       "    .dataframe thead th {\n",
       "        text-align: right;\n",
       "    }\n",
       "</style>\n",
       "<table border=\"1\" class=\"dataframe\">\n",
       "  <thead>\n",
       "    <tr style=\"text-align: right;\">\n",
       "      <th></th>\n",
       "      <th>bedrooms</th>\n",
       "      <th>bathrooms</th>\n",
       "      <th>toilets</th>\n",
       "      <th>parking_space</th>\n",
       "      <th>title</th>\n",
       "      <th>town</th>\n",
       "      <th>state</th>\n",
       "      <th>price</th>\n",
       "    </tr>\n",
       "  </thead>\n",
       "  <tbody>\n",
       "    <tr>\n",
       "      <th>7464</th>\n",
       "      <td>1.0</td>\n",
       "      <td>8.0</td>\n",
       "      <td>1.0</td>\n",
       "      <td>6.0</td>\n",
       "      <td>Block of Flats</td>\n",
       "      <td>Ijaiye</td>\n",
       "      <td>Lagos</td>\n",
       "      <td>45000000.0</td>\n",
       "    </tr>\n",
       "  </tbody>\n",
       "</table>\n",
       "</div>"
      ],
      "text/plain": [
       "      bedrooms  bathrooms  toilets  parking_space           title    town  \\\n",
       "7464       1.0        8.0      1.0            6.0  Block of Flats  Ijaiye   \n",
       "\n",
       "      state       price  \n",
       "7464  Lagos  45000000.0  "
      ]
     },
     "execution_count": 339,
     "metadata": {},
     "output_type": "execute_result"
    }
   ],
   "source": [
    "df[(df['bathrooms'] == 8) & (df[\"bedrooms\"] < 3)].head()"
   ]
  },
  {
   "cell_type": "markdown",
   "id": "c6744f09",
   "metadata": {
    "papermill": {
     "duration": 0.037891,
     "end_time": "2023-12-15T19:02:06.082477",
     "exception": false,
     "start_time": "2023-12-15T19:02:06.044586",
     "status": "completed"
    },
    "tags": []
   },
   "source": [
    "This is too extreme!"
   ]
  },
  {
   "cell_type": "code",
   "execution_count": 340,
   "id": "c9653bba",
   "metadata": {
    "execution": {
     "iopub.execute_input": "2023-12-15T19:02:06.156255Z",
     "iopub.status.busy": "2023-12-15T19:02:06.155814Z",
     "iopub.status.idle": "2023-12-15T19:02:06.168273Z",
     "shell.execute_reply": "2023-12-15T19:02:06.167063Z"
    },
    "papermill": {
     "duration": 0.052599,
     "end_time": "2023-12-15T19:02:06.170589",
     "exception": false,
     "start_time": "2023-12-15T19:02:06.117990",
     "status": "completed"
    },
    "tags": []
   },
   "outputs": [
    {
     "data": {
      "text/plain": [
       "(8510, 8)"
      ]
     },
     "execution_count": 340,
     "metadata": {},
     "output_type": "execute_result"
    }
   ],
   "source": [
    "# dropping this extreme row 9786\n",
    "df.drop(df[(df['bathrooms'] == 8) & (df[\"bedrooms\"] < 3)].index.to_list(), axis=0, inplace=True)\n",
    "df.shape"
   ]
  },
  {
   "cell_type": "code",
   "execution_count": 341,
   "id": "2e1f6607",
   "metadata": {
    "execution": {
     "iopub.execute_input": "2023-12-15T19:02:06.244836Z",
     "iopub.status.busy": "2023-12-15T19:02:06.243589Z",
     "iopub.status.idle": "2023-12-15T19:02:06.264852Z",
     "shell.execute_reply": "2023-12-15T19:02:06.263428Z"
    },
    "papermill": {
     "duration": 0.062273,
     "end_time": "2023-12-15T19:02:06.268381",
     "exception": false,
     "start_time": "2023-12-15T19:02:06.206108",
     "status": "completed"
    },
    "tags": []
   },
   "outputs": [
    {
     "data": {
      "text/html": [
       "<div>\n",
       "<style scoped>\n",
       "    .dataframe tbody tr th:only-of-type {\n",
       "        vertical-align: middle;\n",
       "    }\n",
       "\n",
       "    .dataframe tbody tr th {\n",
       "        vertical-align: top;\n",
       "    }\n",
       "\n",
       "    .dataframe thead th {\n",
       "        text-align: right;\n",
       "    }\n",
       "</style>\n",
       "<table border=\"1\" class=\"dataframe\">\n",
       "  <thead>\n",
       "    <tr style=\"text-align: right;\">\n",
       "      <th></th>\n",
       "      <th>bedrooms</th>\n",
       "      <th>bathrooms</th>\n",
       "      <th>toilets</th>\n",
       "      <th>parking_space</th>\n",
       "      <th>title</th>\n",
       "      <th>town</th>\n",
       "      <th>state</th>\n",
       "      <th>price</th>\n",
       "    </tr>\n",
       "  </thead>\n",
       "  <tbody>\n",
       "    <tr>\n",
       "      <th>6563</th>\n",
       "      <td>9.0</td>\n",
       "      <td>3.0</td>\n",
       "      <td>6.0</td>\n",
       "      <td>4.0</td>\n",
       "      <td>Detached Duplex</td>\n",
       "      <td>Ajah</td>\n",
       "      <td>Lagos</td>\n",
       "      <td>200000000.0</td>\n",
       "    </tr>\n",
       "    <tr>\n",
       "      <th>17759</th>\n",
       "      <td>9.0</td>\n",
       "      <td>1.0</td>\n",
       "      <td>9.0</td>\n",
       "      <td>9.0</td>\n",
       "      <td>Detached Duplex</td>\n",
       "      <td>Ojo</td>\n",
       "      <td>Lagos</td>\n",
       "      <td>50000000.0</td>\n",
       "    </tr>\n",
       "  </tbody>\n",
       "</table>\n",
       "</div>"
      ],
      "text/plain": [
       "       bedrooms  bathrooms  toilets  parking_space            title  town  \\\n",
       "6563        9.0        3.0      6.0            4.0  Detached Duplex  Ajah   \n",
       "17759       9.0        1.0      9.0            9.0  Detached Duplex   Ojo   \n",
       "\n",
       "       state        price  \n",
       "6563   Lagos  200000000.0  \n",
       "17759  Lagos   50000000.0  "
      ]
     },
     "execution_count": 341,
     "metadata": {},
     "output_type": "execute_result"
    }
   ],
   "source": [
    "# apartments with 9 bedrooms having less than 4 bathrooms\n",
    "df[(df['bedrooms'] == 9) & (df[\"bathrooms\"] < 4)].head()"
   ]
  },
  {
   "cell_type": "code",
   "execution_count": 342,
   "id": "78044e37",
   "metadata": {
    "execution": {
     "iopub.execute_input": "2023-12-15T19:02:06.343695Z",
     "iopub.status.busy": "2023-12-15T19:02:06.342774Z",
     "iopub.status.idle": "2023-12-15T19:02:06.355835Z",
     "shell.execute_reply": "2023-12-15T19:02:06.354646Z"
    },
    "papermill": {
     "duration": 0.053446,
     "end_time": "2023-12-15T19:02:06.358614",
     "exception": false,
     "start_time": "2023-12-15T19:02:06.305168",
     "status": "completed"
    },
    "tags": []
   },
   "outputs": [
    {
     "data": {
      "text/plain": [
       "(8508, 8)"
      ]
     },
     "execution_count": 342,
     "metadata": {},
     "output_type": "execute_result"
    }
   ],
   "source": [
    "# dropping these extreme rows\n",
    "df.drop(df[(df['bedrooms'] == 9) & (df[\"bathrooms\"] < 4)].index.to_list(), axis=0, inplace=True)\n",
    "df.shape"
   ]
  },
  {
   "cell_type": "code",
   "execution_count": 343,
   "id": "bb33f55e",
   "metadata": {
    "execution": {
     "iopub.execute_input": "2023-12-15T19:02:06.437644Z",
     "iopub.status.busy": "2023-12-15T19:02:06.437250Z",
     "iopub.status.idle": "2023-12-15T19:02:06.456581Z",
     "shell.execute_reply": "2023-12-15T19:02:06.455307Z"
    },
    "papermill": {
     "duration": 0.06228,
     "end_time": "2023-12-15T19:02:06.459238",
     "exception": false,
     "start_time": "2023-12-15T19:02:06.396958",
     "status": "completed"
    },
    "tags": []
   },
   "outputs": [
    {
     "data": {
      "text/html": [
       "<div>\n",
       "<style scoped>\n",
       "    .dataframe tbody tr th:only-of-type {\n",
       "        vertical-align: middle;\n",
       "    }\n",
       "\n",
       "    .dataframe tbody tr th {\n",
       "        vertical-align: top;\n",
       "    }\n",
       "\n",
       "    .dataframe thead th {\n",
       "        text-align: right;\n",
       "    }\n",
       "</style>\n",
       "<table border=\"1\" class=\"dataframe\">\n",
       "  <thead>\n",
       "    <tr style=\"text-align: right;\">\n",
       "      <th></th>\n",
       "      <th>bedrooms</th>\n",
       "      <th>bathrooms</th>\n",
       "      <th>toilets</th>\n",
       "      <th>parking_space</th>\n",
       "      <th>title</th>\n",
       "      <th>town</th>\n",
       "      <th>state</th>\n",
       "      <th>price</th>\n",
       "    </tr>\n",
       "  </thead>\n",
       "  <tbody>\n",
       "  </tbody>\n",
       "</table>\n",
       "</div>"
      ],
      "text/plain": [
       "Empty DataFrame\n",
       "Columns: [bedrooms, bathrooms, toilets, parking_space, title, town, state, price]\n",
       "Index: []"
      ]
     },
     "execution_count": 343,
     "metadata": {},
     "output_type": "execute_result"
    }
   ],
   "source": [
    "# apartments with 8 bedrooms having less than 4 bathrooms\n",
    "df[(df['bedrooms'] == 8) & (df[\"bathrooms\"] < 4)].head()"
   ]
  },
  {
   "cell_type": "code",
   "execution_count": 344,
   "id": "6df1bcb6",
   "metadata": {
    "execution": {
     "iopub.execute_input": "2023-12-15T19:02:06.535483Z",
     "iopub.status.busy": "2023-12-15T19:02:06.535061Z",
     "iopub.status.idle": "2023-12-15T19:02:06.545480Z",
     "shell.execute_reply": "2023-12-15T19:02:06.544578Z"
    },
    "papermill": {
     "duration": 0.051596,
     "end_time": "2023-12-15T19:02:06.547941",
     "exception": false,
     "start_time": "2023-12-15T19:02:06.496345",
     "status": "completed"
    },
    "tags": []
   },
   "outputs": [
    {
     "data": {
      "text/plain": [
       "(8508, 8)"
      ]
     },
     "execution_count": 344,
     "metadata": {},
     "output_type": "execute_result"
    }
   ],
   "source": [
    "# dropping this extreme row\n",
    "df.drop(df[(df['bedrooms'] == 8) & (df[\"bathrooms\"] < 4)].index.to_list(), axis=0, inplace=True)\n",
    "df.shape"
   ]
  },
  {
   "cell_type": "code",
   "execution_count": 345,
   "id": "3dc58357",
   "metadata": {
    "execution": {
     "iopub.execute_input": "2023-12-15T19:02:06.624214Z",
     "iopub.status.busy": "2023-12-15T19:02:06.623094Z",
     "iopub.status.idle": "2023-12-15T19:02:06.641621Z",
     "shell.execute_reply": "2023-12-15T19:02:06.640245Z"
    },
    "papermill": {
     "duration": 0.058833,
     "end_time": "2023-12-15T19:02:06.644345",
     "exception": false,
     "start_time": "2023-12-15T19:02:06.585512",
     "status": "completed"
    },
    "tags": []
   },
   "outputs": [
    {
     "data": {
      "text/html": [
       "<div>\n",
       "<style scoped>\n",
       "    .dataframe tbody tr th:only-of-type {\n",
       "        vertical-align: middle;\n",
       "    }\n",
       "\n",
       "    .dataframe tbody tr th {\n",
       "        vertical-align: top;\n",
       "    }\n",
       "\n",
       "    .dataframe thead th {\n",
       "        text-align: right;\n",
       "    }\n",
       "</style>\n",
       "<table border=\"1\" class=\"dataframe\">\n",
       "  <thead>\n",
       "    <tr style=\"text-align: right;\">\n",
       "      <th></th>\n",
       "      <th>bedrooms</th>\n",
       "      <th>bathrooms</th>\n",
       "      <th>toilets</th>\n",
       "      <th>parking_space</th>\n",
       "      <th>title</th>\n",
       "      <th>town</th>\n",
       "      <th>state</th>\n",
       "      <th>price</th>\n",
       "    </tr>\n",
       "  </thead>\n",
       "  <tbody>\n",
       "  </tbody>\n",
       "</table>\n",
       "</div>"
      ],
      "text/plain": [
       "Empty DataFrame\n",
       "Columns: [bedrooms, bathrooms, toilets, parking_space, title, town, state, price]\n",
       "Index: []"
      ]
     },
     "execution_count": 345,
     "metadata": {},
     "output_type": "execute_result"
    }
   ],
   "source": [
    "# apartments with 7 bedrooms having less than 3 bathrooms\n",
    "df[(df['bedrooms'] == 7) & (df[\"bathrooms\"] < 3)].head()"
   ]
  },
  {
   "cell_type": "code",
   "execution_count": 346,
   "id": "202f898c",
   "metadata": {
    "execution": {
     "iopub.execute_input": "2023-12-15T19:02:06.719113Z",
     "iopub.status.busy": "2023-12-15T19:02:06.718719Z",
     "iopub.status.idle": "2023-12-15T19:02:06.729878Z",
     "shell.execute_reply": "2023-12-15T19:02:06.728958Z"
    },
    "papermill": {
     "duration": 0.051596,
     "end_time": "2023-12-15T19:02:06.732268",
     "exception": false,
     "start_time": "2023-12-15T19:02:06.680672",
     "status": "completed"
    },
    "tags": []
   },
   "outputs": [
    {
     "data": {
      "text/plain": [
       "(8508, 8)"
      ]
     },
     "execution_count": 346,
     "metadata": {},
     "output_type": "execute_result"
    }
   ],
   "source": [
    "# dropping this extreme row\n",
    "df.drop(df[(df['bedrooms'] == 7) & (df[\"bathrooms\"] < 3)].index.to_list(), axis=0, inplace=True)\n",
    "df.shape"
   ]
  },
  {
   "cell_type": "code",
   "execution_count": 347,
   "id": "61ae22ea",
   "metadata": {
    "execution": {
     "iopub.execute_input": "2023-12-15T19:02:06.808592Z",
     "iopub.status.busy": "2023-12-15T19:02:06.807380Z",
     "iopub.status.idle": "2023-12-15T19:02:06.826172Z",
     "shell.execute_reply": "2023-12-15T19:02:06.824972Z"
    },
    "papermill": {
     "duration": 0.059777,
     "end_time": "2023-12-15T19:02:06.828649",
     "exception": false,
     "start_time": "2023-12-15T19:02:06.768872",
     "status": "completed"
    },
    "tags": []
   },
   "outputs": [
    {
     "data": {
      "text/html": [
       "<div>\n",
       "<style scoped>\n",
       "    .dataframe tbody tr th:only-of-type {\n",
       "        vertical-align: middle;\n",
       "    }\n",
       "\n",
       "    .dataframe tbody tr th {\n",
       "        vertical-align: top;\n",
       "    }\n",
       "\n",
       "    .dataframe thead th {\n",
       "        text-align: right;\n",
       "    }\n",
       "</style>\n",
       "<table border=\"1\" class=\"dataframe\">\n",
       "  <thead>\n",
       "    <tr style=\"text-align: right;\">\n",
       "      <th></th>\n",
       "      <th>bedrooms</th>\n",
       "      <th>bathrooms</th>\n",
       "      <th>toilets</th>\n",
       "      <th>parking_space</th>\n",
       "      <th>title</th>\n",
       "      <th>town</th>\n",
       "      <th>state</th>\n",
       "      <th>price</th>\n",
       "    </tr>\n",
       "  </thead>\n",
       "  <tbody>\n",
       "    <tr>\n",
       "      <th>16058</th>\n",
       "      <td>6.0</td>\n",
       "      <td>2.0</td>\n",
       "      <td>6.0</td>\n",
       "      <td>4.0</td>\n",
       "      <td>Semi Detached Bungalow</td>\n",
       "      <td>Ikorodu</td>\n",
       "      <td>Lagos</td>\n",
       "      <td>16000000.0</td>\n",
       "    </tr>\n",
       "  </tbody>\n",
       "</table>\n",
       "</div>"
      ],
      "text/plain": [
       "       bedrooms  bathrooms  toilets  parking_space                   title  \\\n",
       "16058       6.0        2.0      6.0            4.0  Semi Detached Bungalow   \n",
       "\n",
       "          town  state       price  \n",
       "16058  Ikorodu  Lagos  16000000.0  "
      ]
     },
     "execution_count": 347,
     "metadata": {},
     "output_type": "execute_result"
    }
   ],
   "source": [
    "# apartments with 6 bedrooms having less than 3 bathrooms\n",
    "df[(df['bedrooms'] == 6) & (df[\"bathrooms\"] < 3)].head()"
   ]
  },
  {
   "cell_type": "code",
   "execution_count": 348,
   "id": "a4d8cab0",
   "metadata": {
    "execution": {
     "iopub.execute_input": "2023-12-15T19:02:06.906166Z",
     "iopub.status.busy": "2023-12-15T19:02:06.905513Z",
     "iopub.status.idle": "2023-12-15T19:02:06.915649Z",
     "shell.execute_reply": "2023-12-15T19:02:06.914693Z"
    },
    "papermill": {
     "duration": 0.052381,
     "end_time": "2023-12-15T19:02:06.918134",
     "exception": false,
     "start_time": "2023-12-15T19:02:06.865753",
     "status": "completed"
    },
    "tags": []
   },
   "outputs": [
    {
     "data": {
      "text/plain": [
       "(8507, 8)"
      ]
     },
     "execution_count": 348,
     "metadata": {},
     "output_type": "execute_result"
    }
   ],
   "source": [
    "# dropping these extreme rows\n",
    "df.drop(df[(df['bedrooms'] == 6) & (df[\"bathrooms\"] < 3)].index.to_list(), axis=0, inplace=True)\n",
    "df.shape"
   ]
  },
  {
   "cell_type": "code",
   "execution_count": 349,
   "id": "af823a2d",
   "metadata": {
    "execution": {
     "iopub.execute_input": "2023-12-15T19:02:06.996358Z",
     "iopub.status.busy": "2023-12-15T19:02:06.995726Z",
     "iopub.status.idle": "2023-12-15T19:02:07.015826Z",
     "shell.execute_reply": "2023-12-15T19:02:07.014680Z"
    },
    "papermill": {
     "duration": 0.062692,
     "end_time": "2023-12-15T19:02:07.018278",
     "exception": false,
     "start_time": "2023-12-15T19:02:06.955586",
     "status": "completed"
    },
    "tags": []
   },
   "outputs": [
    {
     "data": {
      "text/html": [
       "<div>\n",
       "<style scoped>\n",
       "    .dataframe tbody tr th:only-of-type {\n",
       "        vertical-align: middle;\n",
       "    }\n",
       "\n",
       "    .dataframe tbody tr th {\n",
       "        vertical-align: top;\n",
       "    }\n",
       "\n",
       "    .dataframe thead th {\n",
       "        text-align: right;\n",
       "    }\n",
       "</style>\n",
       "<table border=\"1\" class=\"dataframe\">\n",
       "  <thead>\n",
       "    <tr style=\"text-align: right;\">\n",
       "      <th></th>\n",
       "      <th>bedrooms</th>\n",
       "      <th>bathrooms</th>\n",
       "      <th>toilets</th>\n",
       "      <th>parking_space</th>\n",
       "      <th>title</th>\n",
       "      <th>town</th>\n",
       "      <th>state</th>\n",
       "      <th>price</th>\n",
       "    </tr>\n",
       "  </thead>\n",
       "  <tbody>\n",
       "    <tr>\n",
       "      <th>7335</th>\n",
       "      <td>4.0</td>\n",
       "      <td>8.0</td>\n",
       "      <td>1.0</td>\n",
       "      <td>7.0</td>\n",
       "      <td>Detached Duplex</td>\n",
       "      <td>Maryland</td>\n",
       "      <td>Lagos</td>\n",
       "      <td>150000000.0</td>\n",
       "    </tr>\n",
       "    <tr>\n",
       "      <th>12836</th>\n",
       "      <td>5.0</td>\n",
       "      <td>1.0</td>\n",
       "      <td>9.0</td>\n",
       "      <td>4.0</td>\n",
       "      <td>Detached Duplex</td>\n",
       "      <td>Ikorodu</td>\n",
       "      <td>Lagos</td>\n",
       "      <td>40000000.0</td>\n",
       "    </tr>\n",
       "    <tr>\n",
       "      <th>13380</th>\n",
       "      <td>3.0</td>\n",
       "      <td>8.0</td>\n",
       "      <td>1.0</td>\n",
       "      <td>6.0</td>\n",
       "      <td>Block of Flats</td>\n",
       "      <td>Ojo</td>\n",
       "      <td>Lagos</td>\n",
       "      <td>28000000.0</td>\n",
       "    </tr>\n",
       "    <tr>\n",
       "      <th>17578</th>\n",
       "      <td>5.0</td>\n",
       "      <td>2.0</td>\n",
       "      <td>7.0</td>\n",
       "      <td>4.0</td>\n",
       "      <td>Detached Duplex</td>\n",
       "      <td>Ibeju Lekki</td>\n",
       "      <td>Lagos</td>\n",
       "      <td>107000000.0</td>\n",
       "    </tr>\n",
       "  </tbody>\n",
       "</table>\n",
       "</div>"
      ],
      "text/plain": [
       "       bedrooms  bathrooms  toilets  parking_space            title  \\\n",
       "7335        4.0        8.0      1.0            7.0  Detached Duplex   \n",
       "12836       5.0        1.0      9.0            4.0  Detached Duplex   \n",
       "13380       3.0        8.0      1.0            6.0   Block of Flats   \n",
       "17578       5.0        2.0      7.0            4.0  Detached Duplex   \n",
       "\n",
       "              town  state        price  \n",
       "7335      Maryland  Lagos  150000000.0  \n",
       "12836      Ikorodu  Lagos   40000000.0  \n",
       "13380          Ojo  Lagos   28000000.0  \n",
       "17578  Ibeju Lekki  Lagos  107000000.0  "
      ]
     },
     "execution_count": 349,
     "metadata": {},
     "output_type": "execute_result"
    }
   ],
   "source": [
    "# apartments where bathrooms > 6 and toilets < 3 or bathrooms < 3 and toilets > 6\n",
    "df[((df['bathrooms'] > 6) & (df[\"toilets\"] < 3)) | ((df['bathrooms'] < 3) & (df[\"toilets\"] > 6))].head()"
   ]
  },
  {
   "cell_type": "code",
   "execution_count": 350,
   "id": "3dff8880",
   "metadata": {
    "execution": {
     "iopub.execute_input": "2023-12-15T19:02:07.099870Z",
     "iopub.status.busy": "2023-12-15T19:02:07.099238Z",
     "iopub.status.idle": "2023-12-15T19:02:07.111764Z",
     "shell.execute_reply": "2023-12-15T19:02:07.110588Z"
    },
    "papermill": {
     "duration": 0.057636,
     "end_time": "2023-12-15T19:02:07.114287",
     "exception": false,
     "start_time": "2023-12-15T19:02:07.056651",
     "status": "completed"
    },
    "tags": []
   },
   "outputs": [
    {
     "data": {
      "text/plain": [
       "(8503, 8)"
      ]
     },
     "execution_count": 350,
     "metadata": {},
     "output_type": "execute_result"
    }
   ],
   "source": [
    "# dropping these extreme rows\n",
    "df.drop(df[((df['bathrooms'] > 6) & (df[\"toilets\"] < 3)) | ((df['bathrooms'] < 3) & (df[\"toilets\"] > 6))].index.to_list(),\n",
    "        inplace=True, axis=0)\n",
    "df.shape"
   ]
  },
  {
   "cell_type": "markdown",
   "id": "df2b674f",
   "metadata": {
    "papermill": {
     "duration": 0.038433,
     "end_time": "2023-12-15T19:02:07.190937",
     "exception": false,
     "start_time": "2023-12-15T19:02:07.152504",
     "status": "completed"
    },
    "tags": []
   },
   "source": [
    "#### Exploring outliers: Apartment Features vs Price"
   ]
  },
  {
   "cell_type": "code",
   "execution_count": 351,
   "id": "051fe197",
   "metadata": {
    "execution": {
     "iopub.execute_input": "2023-12-15T19:02:07.271099Z",
     "iopub.status.busy": "2023-12-15T19:02:07.270436Z",
     "iopub.status.idle": "2023-12-15T19:02:07.601770Z",
     "shell.execute_reply": "2023-12-15T19:02:07.600610Z"
    },
    "papermill": {
     "duration": 0.375015,
     "end_time": "2023-12-15T19:02:07.604306",
     "exception": false,
     "start_time": "2023-12-15T19:02:07.229291",
     "status": "completed"
    },
    "tags": []
   },
   "outputs": [
    {
     "data": {
      "image/png": "[encoded data removed]",
      "text/plain": [
       "<Figure size 640x480 with 1 Axes>"
      ]
     },
     "metadata": {},
     "output_type": "display_data"
    }
   ],
   "source": [
    "sns.boxplot(x=df[\"price\"]/1e9, orient=\"h\")\n",
    "plt.xlabel(\"Price (in billion naira)\")\n",
    "plt.title(\"Boxplot of Price of Apartment in Lagos\");"
   ]
  },
  {
   "cell_type": "code",
   "execution_count": 352,
   "id": "4969102a",
   "metadata": {
    "execution": {
     "iopub.execute_input": "2023-12-15T19:02:07.683012Z",
     "iopub.status.busy": "2023-12-15T19:02:07.682367Z",
     "iopub.status.idle": "2023-12-15T19:02:07.699216Z",
     "shell.execute_reply": "2023-12-15T19:02:07.698041Z"
    },
    "papermill": {
     "duration": 0.059868,
     "end_time": "2023-12-15T19:02:07.702257",
     "exception": false,
     "start_time": "2023-12-15T19:02:07.642389",
     "status": "completed"
    },
    "tags": []
   },
   "outputs": [
    {
     "data": {
      "text/html": [
       "<div>\n",
       "<style scoped>\n",
       "    .dataframe tbody tr th:only-of-type {\n",
       "        vertical-align: middle;\n",
       "    }\n",
       "\n",
       "    .dataframe tbody tr th {\n",
       "        vertical-align: top;\n",
       "    }\n",
       "\n",
       "    .dataframe thead th {\n",
       "        text-align: right;\n",
       "    }\n",
       "</style>\n",
       "<table border=\"1\" class=\"dataframe\">\n",
       "  <thead>\n",
       "    <tr style=\"text-align: right;\">\n",
       "      <th></th>\n",
       "      <th>bedrooms</th>\n",
       "      <th>bathrooms</th>\n",
       "      <th>toilets</th>\n",
       "      <th>parking_space</th>\n",
       "      <th>title</th>\n",
       "      <th>town</th>\n",
       "      <th>state</th>\n",
       "      <th>price</th>\n",
       "    </tr>\n",
       "  </thead>\n",
       "  <tbody>\n",
       "    <tr>\n",
       "      <th>1989</th>\n",
       "      <td>2.0</td>\n",
       "      <td>3.0</td>\n",
       "      <td>3.0</td>\n",
       "      <td>4.0</td>\n",
       "      <td>Terraced Duplexes</td>\n",
       "      <td>Ibeju Lekki</td>\n",
       "      <td>Lagos</td>\n",
       "      <td>90000.0</td>\n",
       "    </tr>\n",
       "  </tbody>\n",
       "</table>\n",
       "</div>"
      ],
      "text/plain": [
       "      bedrooms  bathrooms  toilets  parking_space              title  \\\n",
       "1989       2.0        3.0      3.0            4.0  Terraced Duplexes   \n",
       "\n",
       "             town  state    price  \n",
       "1989  Ibeju Lekki  Lagos  90000.0  "
      ]
     },
     "execution_count": 352,
     "metadata": {},
     "output_type": "execute_result"
    }
   ],
   "source": [
    "#The apartment with the minimum price\n",
    "df[df[\"price\"] == df[\"price\"].min()]"
   ]
  },
  {
   "cell_type": "markdown",
   "id": "11da57ab",
   "metadata": {
    "papermill": {
     "duration": 0.038079,
     "end_time": "2023-12-15T19:02:07.778883",
     "exception": false,
     "start_time": "2023-12-15T19:02:07.740804",
     "status": "completed"
    },
    "tags": []
   },
   "source": [
    "- The boxplot shows that there are outliers in `price`.\n",
    "- Also, looking at the minimum amount, it shows that the cheatest apartment price of a two-bedroom apartment in Ibeju-Lekki is`90,000` naira."
   ]
  },
  {
   "cell_type": "code",
   "execution_count": 353,
   "id": "c25ac382",
   "metadata": {},
   "outputs": [
    {
     "name": "stdout",
     "output_type": "stream",
     "text": [
      "The original DataFrame had shape: (8503, 8)\n",
      "The new DataFrame after removing outliers has shape: (7348, 8)\n"
     ]
    },
    {
     "data": {
      "image/png": "[encoded data removed]",
      "text/plain": [
       "<Figure size 640x480 with 1 Axes>"
      ]
     },
     "metadata": {},
     "output_type": "display_data"
    }
   ],
   "source": [
    "# Calculate the 7th and 93th percentiles of the 'price' column\n",
    "low = df[\"price\"].quantile(0.07)\n",
    "high = df[\"price\"].quantile(0.93)\n",
    "old_shape = df.shape\n",
    "\n",
    "# Create a boolean mask to identify the rows within the 7th and 93th percentiles\n",
    "price_mask = (df[\"price\"] >= low) & (df[\"price\"] <= high)\n",
    "\n",
    "# Apply the mask to the DataFrame to remove the outliers\n",
    "df = df[price_mask]\n",
    "\n",
    "# Get the new shape of the DataFrame after removing the outliers\n",
    "new_shape = df.shape\n",
    "\n",
    "print(f\"The original DataFrame had shape: {old_shape}\")\n",
    "print(f\"The new DataFrame after removing outliers has shape: {new_shape}\")\n",
    "\n",
    "\n",
    "#Boxplot after removing outlier in price feature\n",
    "sns.boxplot(x=df[\"price\"]/1e6, orient=\"h\", color=\"cyan\")\n",
    "plt.xlabel(\"Price (in million naira)\")\n",
    "plt.title(\"Boxplot of Price of Apartment in Nigeria\");\n"
   ]
  },
  {
   "cell_type": "code",
   "execution_count": 354,
   "id": "78415d8e",
   "metadata": {
    "execution": {
     "iopub.execute_input": "2023-12-15T19:02:07.954506Z",
     "iopub.status.busy": "2023-12-15T19:02:07.954008Z",
     "iopub.status.idle": "2023-12-15T19:02:08.202682Z",
     "shell.execute_reply": "2023-12-15T19:02:08.201346Z"
    },
    "papermill": {
     "duration": 0.291604,
     "end_time": "2023-12-15T19:02:08.205340",
     "exception": false,
     "start_time": "2023-12-15T19:02:07.913736",
     "status": "completed"
    },
    "tags": []
   },
   "outputs": [
    {
     "data": {
      "text/html": [
       "<div>\n",
       "<style scoped>\n",
       "    .dataframe tbody tr th:only-of-type {\n",
       "        vertical-align: middle;\n",
       "    }\n",
       "\n",
       "    .dataframe tbody tr th {\n",
       "        vertical-align: top;\n",
       "    }\n",
       "\n",
       "    .dataframe thead th {\n",
       "        text-align: right;\n",
       "    }\n",
       "</style>\n",
       "<table border=\"1\" class=\"dataframe\">\n",
       "  <thead>\n",
       "    <tr style=\"text-align: right;\">\n",
       "      <th></th>\n",
       "      <th>bedrooms</th>\n",
       "      <th>bathrooms</th>\n",
       "      <th>toilets</th>\n",
       "      <th>parking_space</th>\n",
       "      <th>title</th>\n",
       "      <th>town</th>\n",
       "      <th>state</th>\n",
       "      <th>price</th>\n",
       "    </tr>\n",
       "  </thead>\n",
       "  <tbody>\n",
       "    <tr>\n",
       "      <th>4999</th>\n",
       "      <td>3.0</td>\n",
       "      <td>3.0</td>\n",
       "      <td>3.0</td>\n",
       "      <td>2.0</td>\n",
       "      <td>Terraced Bungalow</td>\n",
       "      <td>Lekki</td>\n",
       "      <td>Lagos</td>\n",
       "      <td>19299375.0</td>\n",
       "    </tr>\n",
       "    <tr>\n",
       "      <th>8498</th>\n",
       "      <td>3.0</td>\n",
       "      <td>3.0</td>\n",
       "      <td>3.0</td>\n",
       "      <td>2.0</td>\n",
       "      <td>Terraced Bungalow</td>\n",
       "      <td>Ibeju Lekki</td>\n",
       "      <td>Lagos</td>\n",
       "      <td>19299375.0</td>\n",
       "    </tr>\n",
       "    <tr>\n",
       "      <th>9721</th>\n",
       "      <td>3.0</td>\n",
       "      <td>3.0</td>\n",
       "      <td>3.0</td>\n",
       "      <td>4.0</td>\n",
       "      <td>Semi Detached Bungalow</td>\n",
       "      <td>Ibeju Lekki</td>\n",
       "      <td>Lagos</td>\n",
       "      <td>19299375.0</td>\n",
       "    </tr>\n",
       "  </tbody>\n",
       "</table>\n",
       "</div>"
      ],
      "text/plain": [
       "      bedrooms  bathrooms  toilets  parking_space                   title  \\\n",
       "4999       3.0        3.0      3.0            2.0       Terraced Bungalow   \n",
       "8498       3.0        3.0      3.0            2.0       Terraced Bungalow   \n",
       "9721       3.0        3.0      3.0            4.0  Semi Detached Bungalow   \n",
       "\n",
       "             town  state       price  \n",
       "4999        Lekki  Lagos  19299375.0  \n",
       "8498  Ibeju Lekki  Lagos  19299375.0  \n",
       "9721  Ibeju Lekki  Lagos  19299375.0  "
      ]
     },
     "execution_count": 354,
     "metadata": {},
     "output_type": "execute_result"
    }
   ],
   "source": [
    "#The apartment with the minimum price\n",
    "df[df[\"price\"] == df[\"price\"].min()]"
   ]
  },
  {
   "cell_type": "markdown",
   "id": "4e43c934",
   "metadata": {
    "papermill": {
     "duration": 0.039994,
     "end_time": "2023-12-15T19:02:08.284017",
     "exception": false,
     "start_time": "2023-12-15T19:02:08.244023",
     "status": "completed"
    },
    "tags": []
   },
   "source": [
    "## Exploring the Features"
   ]
  },
  {
   "cell_type": "markdown",
   "id": "3dec91e8",
   "metadata": {
    "papermill": {
     "duration": 0.042822,
     "end_time": "2023-12-15T19:02:09.118288",
     "exception": false,
     "start_time": "2023-12-15T19:02:09.075466",
     "status": "completed"
    },
    "tags": []
   },
   "source": [
    "#### Housing Price: State and Town\n",
    "Lets construct a barchat showing the town with the highest average house price for the top two states"
   ]
  },
  {
   "cell_type": "code",
   "execution_count": 355,
   "id": "a9f9d8d5",
   "metadata": {},
   "outputs": [
    {
     "data": {
      "text/html": [
       "<div>\n",
       "<style scoped>\n",
       "    .dataframe tbody tr th:only-of-type {\n",
       "        vertical-align: middle;\n",
       "    }\n",
       "\n",
       "    .dataframe tbody tr th {\n",
       "        vertical-align: top;\n",
       "    }\n",
       "\n",
       "    .dataframe thead th {\n",
       "        text-align: right;\n",
       "    }\n",
       "</style>\n",
       "<table border=\"1\" class=\"dataframe\">\n",
       "  <thead>\n",
       "    <tr style=\"text-align: right;\">\n",
       "      <th></th>\n",
       "      <th>bedrooms</th>\n",
       "      <th>bathrooms</th>\n",
       "      <th>toilets</th>\n",
       "      <th>parking_space</th>\n",
       "      <th>title</th>\n",
       "      <th>town</th>\n",
       "      <th>state</th>\n",
       "      <th>price</th>\n",
       "    </tr>\n",
       "  </thead>\n",
       "  <tbody>\n",
       "    <tr>\n",
       "      <th>0</th>\n",
       "      <td>4.0</td>\n",
       "      <td>5.0</td>\n",
       "      <td>5.0</td>\n",
       "      <td>4.0</td>\n",
       "      <td>Detached Duplex</td>\n",
       "      <td>Lekki</td>\n",
       "      <td>Lagos</td>\n",
       "      <td>120000000.0</td>\n",
       "    </tr>\n",
       "    <tr>\n",
       "      <th>1</th>\n",
       "      <td>4.0</td>\n",
       "      <td>4.0</td>\n",
       "      <td>5.0</td>\n",
       "      <td>6.0</td>\n",
       "      <td>Detached Duplex</td>\n",
       "      <td>Ajah</td>\n",
       "      <td>Lagos</td>\n",
       "      <td>40000000.0</td>\n",
       "    </tr>\n",
       "    <tr>\n",
       "      <th>2</th>\n",
       "      <td>4.0</td>\n",
       "      <td>4.0</td>\n",
       "      <td>5.0</td>\n",
       "      <td>2.0</td>\n",
       "      <td>Semi Detached Duplex</td>\n",
       "      <td>Lekki</td>\n",
       "      <td>Lagos</td>\n",
       "      <td>75000000.0</td>\n",
       "    </tr>\n",
       "    <tr>\n",
       "      <th>3</th>\n",
       "      <td>5.0</td>\n",
       "      <td>5.0</td>\n",
       "      <td>6.0</td>\n",
       "      <td>1.0</td>\n",
       "      <td>Detached Duplex</td>\n",
       "      <td>Lekki</td>\n",
       "      <td>Lagos</td>\n",
       "      <td>450000000.0</td>\n",
       "    </tr>\n",
       "    <tr>\n",
       "      <th>4</th>\n",
       "      <td>4.0</td>\n",
       "      <td>5.0</td>\n",
       "      <td>5.0</td>\n",
       "      <td>4.0</td>\n",
       "      <td>Detached Duplex</td>\n",
       "      <td>Lekki</td>\n",
       "      <td>Lagos</td>\n",
       "      <td>65000000.0</td>\n",
       "    </tr>\n",
       "  </tbody>\n",
       "</table>\n",
       "</div>"
      ],
      "text/plain": [
       "   bedrooms  bathrooms  toilets  parking_space                 title   town  \\\n",
       "0       4.0        5.0      5.0            4.0       Detached Duplex  Lekki   \n",
       "1       4.0        4.0      5.0            6.0       Detached Duplex   Ajah   \n",
       "2       4.0        4.0      5.0            2.0  Semi Detached Duplex  Lekki   \n",
       "3       5.0        5.0      6.0            1.0       Detached Duplex  Lekki   \n",
       "4       4.0        5.0      5.0            4.0       Detached Duplex  Lekki   \n",
       "\n",
       "   state        price  \n",
       "0  Lagos  120000000.0  \n",
       "1  Lagos   40000000.0  \n",
       "2  Lagos   75000000.0  \n",
       "3  Lagos  450000000.0  \n",
       "4  Lagos   65000000.0  "
      ]
     },
     "execution_count": 355,
     "metadata": {},
     "output_type": "execute_result"
    }
   ],
   "source": [
    "df.head()"
   ]
  },
  {
   "cell_type": "code",
   "execution_count": 356,
   "id": "7b85262a",
   "metadata": {
    "execution": {
     "iopub.execute_input": "2023-12-15T19:02:09.200473Z",
     "iopub.status.busy": "2023-12-15T19:02:09.200060Z",
     "iopub.status.idle": "2023-12-15T19:02:09.714339Z",
     "shell.execute_reply": "2023-12-15T19:02:09.713178Z"
    },
    "papermill": {
     "duration": 0.558064,
     "end_time": "2023-12-15T19:02:09.716863",
     "exception": false,
     "start_time": "2023-12-15T19:02:09.158799",
     "status": "completed"
    },
    "tags": []
   },
   "outputs": [
    {
     "data": {
      "image/png": "[encoded data removed]",
      "text/plain": [
       "<Figure size 1300x500 with 1 Axes>"
      ]
     },
     "metadata": {},
     "output_type": "display_data"
    }
   ],
   "source": [
    "# Mean house price in Lagos State\n",
    "\n",
    "fig, ax = plt.subplots(figsize=(13,5))\n",
    "((df.groupby([\"town\"])[\"price\"].mean())/1e6).sort_values().tail(10).plot.barh(ax=ax, ylabel=\"Town\", xlabel=\"Mean Price (in million naira)\",\n",
    "                                                                           fontsize=10, title=\"Barplot of the Top 10 Mean Housing Price in Lagos Towns\")\n",
    "plt.tight_layout();"
   ]
  },
  {
   "cell_type": "markdown",
   "id": "93423f84",
   "metadata": {
    "papermill": {
     "duration": 0.03947,
     "end_time": "2023-12-15T19:02:09.796367",
     "exception": false,
     "start_time": "2023-12-15T19:02:09.756897",
     "status": "completed"
    },
    "tags": []
   },
   "source": [
    "Ikoyi have the highest mean apartment price in Lagos state which is roughly `250 million naira`."
   ]
  },
  {
   "cell_type": "markdown",
   "id": "a817447b",
   "metadata": {
    "papermill": {
     "duration": 0.040669,
     "end_time": "2023-12-15T19:02:10.635310",
     "exception": false,
     "start_time": "2023-12-15T19:02:10.594641",
     "status": "completed"
    },
    "tags": []
   },
   "source": [
    "#### Housing Price: Space and Title"
   ]
  },
  {
   "cell_type": "code",
   "execution_count": 357,
   "id": "4448b4ef",
   "metadata": {
    "execution": {
     "iopub.execute_input": "2023-12-15T19:02:10.718907Z",
     "iopub.status.busy": "2023-12-15T19:02:10.718496Z",
     "iopub.status.idle": "2023-12-15T19:02:11.193879Z",
     "shell.execute_reply": "2023-12-15T19:02:11.192610Z"
    },
    "papermill": {
     "duration": 0.520931,
     "end_time": "2023-12-15T19:02:11.196984",
     "exception": false,
     "start_time": "2023-12-15T19:02:10.676053",
     "status": "completed"
    },
    "tags": []
   },
   "outputs": [
    {
     "data": {
      "image/png": "[encoded data removed]",
      "text/plain": [
       "<Figure size 1000x800 with 2 Axes>"
      ]
     },
     "metadata": {},
     "output_type": "display_data"
    }
   ],
   "source": [
    "numeric_columns = df.select_dtypes(include=['float64', 'int64'])\n",
    "\n",
    "correlation_matrix = numeric_columns.corr()\n",
    "\n",
    "plt.figure(figsize=(10, 8))\n",
    "sns.heatmap(correlation_matrix, annot=True, cmap='coolwarm', fmt=\".2f\")\n",
    "plt.title('Correlation Matrix')\n",
    "plt.show()"
   ]
  },
  {
   "cell_type": "markdown",
   "id": "93f46240",
   "metadata": {
    "papermill": {
     "duration": 0.043229,
     "end_time": "2023-12-15T19:02:11.282162",
     "exception": false,
     "start_time": "2023-12-15T19:02:11.238933",
     "status": "completed"
    },
    "tags": []
   },
   "source": [
    "The heatmap shows that there is a weak positive linear relationship between space and house price. Also, bedrooms, toilets, and bathrooms are highly correlated which is expected."
   ]
  },
  {
   "cell_type": "markdown",
   "id": "cddb35b0",
   "metadata": {
    "papermill": {
     "duration": 0.043815,
     "end_time": "2023-12-15T19:02:11.369755",
     "exception": false,
     "start_time": "2023-12-15T19:02:11.325940",
     "status": "completed"
    },
    "tags": []
   },
   "source": [
    "#### The distribution of housing title"
   ]
  },
  {
   "cell_type": "code",
   "execution_count": 358,
   "id": "c96dc0a4",
   "metadata": {
    "execution": {
     "iopub.execute_input": "2023-12-15T19:02:11.457086Z",
     "iopub.status.busy": "2023-12-15T19:02:11.456690Z",
     "iopub.status.idle": "2023-12-15T19:02:11.808587Z",
     "shell.execute_reply": "2023-12-15T19:02:11.807242Z"
    },
    "papermill": {
     "duration": 0.398458,
     "end_time": "2023-12-15T19:02:11.811886",
     "exception": false,
     "start_time": "2023-12-15T19:02:11.413428",
     "status": "completed"
    },
    "tags": []
   },
   "outputs": [
    {
     "data": {
      "image/png": "[encoded data removed]",
      "text/plain": [
       "<Figure size 640x480 with 1 Axes>"
      ]
     },
     "metadata": {},
     "output_type": "display_data"
    }
   ],
   "source": [
    "#barplot of the distribution of house title\n",
    "df[\"title\"].value_counts(normalize=True).sort_values().plot.barh(xlabel=\"Frequency (count)\", color=\"cyan\",\n",
    "                                                                 ylabel=\"Title\", title=\"Barplot of House Title\");"
   ]
  },
  {
   "cell_type": "markdown",
   "id": "ba811f12",
   "metadata": {
    "papermill": {
     "duration": 0.042005,
     "end_time": "2023-12-15T19:02:11.896903",
     "exception": false,
     "start_time": "2023-12-15T19:02:11.854898",
     "status": "completed"
    },
    "tags": []
   },
   "source": [
    "Detached Duplex is the most frequent housing title in the dataset, accounting for approximately `55%` of the dataset."
   ]
  },
  {
   "cell_type": "markdown",
   "id": "91478f57",
   "metadata": {
    "papermill": {
     "duration": 0.043114,
     "end_time": "2023-12-15T19:02:11.983683",
     "exception": false,
     "start_time": "2023-12-15T19:02:11.940569",
     "status": "completed"
    },
    "tags": []
   },
   "source": [
    "#### House title and house price"
   ]
  },
  {
   "cell_type": "code",
   "execution_count": 359,
   "id": "7ee0e8b2",
   "metadata": {
    "execution": {
     "iopub.execute_input": "2023-12-15T19:02:12.071666Z",
     "iopub.status.busy": "2023-12-15T19:02:12.071220Z",
     "iopub.status.idle": "2023-12-15T19:02:12.440811Z",
     "shell.execute_reply": "2023-12-15T19:02:12.439449Z"
    },
    "papermill": {
     "duration": 0.416624,
     "end_time": "2023-12-15T19:02:12.443611",
     "exception": false,
     "start_time": "2023-12-15T19:02:12.026987",
     "status": "completed"
    },
    "tags": []
   },
   "outputs": [
    {
     "data": {
      "image/png": "[encoded data removed]",
      "text/plain": [
       "<Figure size 640x480 with 1 Axes>"
      ]
     },
     "metadata": {},
     "output_type": "display_data"
    }
   ],
   "source": [
    "#barplot of house title and mean house price\n",
    "\n",
    "(((df.groupby(\"title\")[\"price\"].mean())/1e6).sort_values()\n",
    " .plot.barh(xlabel=\"Mean Price (in million naira)\", ylabel=\"Title\", color=\"blue\",\n",
    "            title=\"Mean House Price and House Title\"));"
   ]
  },
  {
   "cell_type": "markdown",
   "id": "7faf8368",
   "metadata": {
    "papermill": {
     "duration": 0.043263,
     "end_time": "2023-12-15T19:02:12.530938",
     "exception": false,
     "start_time": "2023-12-15T19:02:12.487675",
     "status": "completed"
    },
    "tags": []
   },
   "source": [
    "The average housing price vary significantly across the levels of house titles. `Detached Duplex` is expected to <br>be about 3 times as expensive as a `Detached Bungalow` on the average, keeping other factors constant."
   ]
  },
  {
   "cell_type": "code",
   "execution_count": null,
   "id": "d295ef6e",
   "metadata": {},
   "outputs": [],
   "source": []
  },
  {
   "cell_type": "markdown",
   "id": "56782217",
   "metadata": {},
   "source": [
    "Lets write a function that takes towns with less than 20 records and categorize them as `Other`"
   ]
  },
  {
   "cell_type": "code",
   "execution_count": 360,
   "id": "2271af1d",
   "metadata": {},
   "outputs": [],
   "source": [
    "def categorize_as_other(dataset):\n",
    "    # get the counts of each town\n",
    "\n",
    "    state_count = dataset[\"town\"].value_counts()\n",
    "    \n",
    "    # get towns less than 20\n",
    "    less_than_20_town = state_count[state_count < 20].index.to_list()\n",
    "    dict_less_than_20_town = {town: \"Other\" for town in less_than_20_town}\n",
    "    \n",
    "    # replacing each town with Others\n",
    "    dataset.loc[:,\"town\"] = dataset[\"town\"].replace(dict_less_than_20_town)\n",
    "    \n",
    "    return dataset "
   ]
  },
  {
   "cell_type": "code",
   "execution_count": 361,
   "id": "a1d23a9f",
   "metadata": {},
   "outputs": [
    {
     "data": {
      "text/html": [
       "<div>\n",
       "<style scoped>\n",
       "    .dataframe tbody tr th:only-of-type {\n",
       "        vertical-align: middle;\n",
       "    }\n",
       "\n",
       "    .dataframe tbody tr th {\n",
       "        vertical-align: top;\n",
       "    }\n",
       "\n",
       "    .dataframe thead th {\n",
       "        text-align: right;\n",
       "    }\n",
       "</style>\n",
       "<table border=\"1\" class=\"dataframe\">\n",
       "  <thead>\n",
       "    <tr style=\"text-align: right;\">\n",
       "      <th></th>\n",
       "      <th>bedrooms</th>\n",
       "      <th>bathrooms</th>\n",
       "      <th>toilets</th>\n",
       "      <th>parking_space</th>\n",
       "      <th>title</th>\n",
       "      <th>town</th>\n",
       "      <th>price</th>\n",
       "    </tr>\n",
       "  </thead>\n",
       "  <tbody>\n",
       "    <tr>\n",
       "      <th>0</th>\n",
       "      <td>4.0</td>\n",
       "      <td>5.0</td>\n",
       "      <td>5.0</td>\n",
       "      <td>4.0</td>\n",
       "      <td>Detached Duplex</td>\n",
       "      <td>Lekki</td>\n",
       "      <td>120000000.0</td>\n",
       "    </tr>\n",
       "    <tr>\n",
       "      <th>1</th>\n",
       "      <td>4.0</td>\n",
       "      <td>4.0</td>\n",
       "      <td>5.0</td>\n",
       "      <td>6.0</td>\n",
       "      <td>Detached Duplex</td>\n",
       "      <td>Ajah</td>\n",
       "      <td>40000000.0</td>\n",
       "    </tr>\n",
       "    <tr>\n",
       "      <th>2</th>\n",
       "      <td>4.0</td>\n",
       "      <td>4.0</td>\n",
       "      <td>5.0</td>\n",
       "      <td>2.0</td>\n",
       "      <td>Semi Detached Duplex</td>\n",
       "      <td>Lekki</td>\n",
       "      <td>75000000.0</td>\n",
       "    </tr>\n",
       "    <tr>\n",
       "      <th>3</th>\n",
       "      <td>5.0</td>\n",
       "      <td>5.0</td>\n",
       "      <td>6.0</td>\n",
       "      <td>1.0</td>\n",
       "      <td>Detached Duplex</td>\n",
       "      <td>Lekki</td>\n",
       "      <td>450000000.0</td>\n",
       "    </tr>\n",
       "    <tr>\n",
       "      <th>4</th>\n",
       "      <td>4.0</td>\n",
       "      <td>5.0</td>\n",
       "      <td>5.0</td>\n",
       "      <td>4.0</td>\n",
       "      <td>Detached Duplex</td>\n",
       "      <td>Lekki</td>\n",
       "      <td>65000000.0</td>\n",
       "    </tr>\n",
       "  </tbody>\n",
       "</table>\n",
       "</div>"
      ],
      "text/plain": [
       "   bedrooms  bathrooms  toilets  parking_space                 title   town  \\\n",
       "0       4.0        5.0      5.0            4.0       Detached Duplex  Lekki   \n",
       "1       4.0        4.0      5.0            6.0       Detached Duplex   Ajah   \n",
       "2       4.0        4.0      5.0            2.0  Semi Detached Duplex  Lekki   \n",
       "3       5.0        5.0      6.0            1.0       Detached Duplex  Lekki   \n",
       "4       4.0        5.0      5.0            4.0       Detached Duplex  Lekki   \n",
       "\n",
       "         price  \n",
       "0  120000000.0  \n",
       "1   40000000.0  \n",
       "2   75000000.0  \n",
       "3  450000000.0  \n",
       "4   65000000.0  "
      ]
     },
     "execution_count": 361,
     "metadata": {},
     "output_type": "execute_result"
    }
   ],
   "source": [
    "df = df.drop(\"state\", axis=1)\n",
    "df.head()"
   ]
  },
  {
   "cell_type": "code",
   "execution_count": 362,
   "id": "2cf57af6",
   "metadata": {},
   "outputs": [
    {
     "data": {
      "text/plain": [
       "array(['Detached Duplex', 'Semi Detached Duplex', 'Terraced Duplexes',\n",
       "       'Block of Flats', 'Semi Detached Bungalow', 'Terraced Bungalow',\n",
       "       'Detached Bungalow'], dtype=object)"
      ]
     },
     "execution_count": 362,
     "metadata": {},
     "output_type": "execute_result"
    }
   ],
   "source": [
    "df[\"title\"].unique()"
   ]
  },
  {
   "cell_type": "code",
   "execution_count": 363,
   "id": "369f5a3a",
   "metadata": {},
   "outputs": [
    {
     "data": {
      "text/plain": [
       "array(['Lekki', 'Ajah', 'Victoria Island (VI)', 'Ikeja', 'Magodo', 'Yaba',\n",
       "       'Agege', 'Ikorodu', 'Isheri North', 'Isheri', 'Ikoyi', 'Ipaja',\n",
       "       'Ibeju Lekki', 'Mushin', 'Ejigbo', 'Ojodu', 'Shomolu', 'Ogudu',\n",
       "       'Isolo', 'Surulere', 'Alimosho', 'Ikotun', 'Maryland', 'Gbagada',\n",
       "       'Idimu', 'Ifako-Ijaiye', 'Ojo', 'Kosofe', 'Ayobo', 'Ilupeju',\n",
       "       'Ketu', 'Ojota', 'Oshodi', 'Amuwo Odofin', 'Agbara-Igbesa',\n",
       "       'Ijaiye', 'Apapa', 'Lagos Island', 'Epe', 'Oke-Odo', 'Egbe',\n",
       "       'Orile', 'Badagry', 'Ijesha'], dtype=object)"
      ]
     },
     "execution_count": 363,
     "metadata": {},
     "output_type": "execute_result"
    }
   ],
   "source": [
    "df[\"town\"].unique()"
   ]
  },
  {
   "cell_type": "code",
   "execution_count": 364,
   "id": "6c4106f0",
   "metadata": {},
   "outputs": [],
   "source": [
    "# #Categorizing towns with less than 20 records as Other\n",
    "# df = categorize_as_other(df)\n",
    "# df[\"town\"].unique()"
   ]
  },
  {
   "cell_type": "code",
   "execution_count": 365,
   "id": "e03031ea",
   "metadata": {},
   "outputs": [
    {
     "data": {
      "text/plain": [
       "(7348, 7)"
      ]
     },
     "execution_count": 365,
     "metadata": {},
     "output_type": "execute_result"
    }
   ],
   "source": [
    "df.shape"
   ]
  },
  {
   "cell_type": "markdown",
   "id": "a34f59a0",
   "metadata": {},
   "source": [
    "## Encoding Categorical features"
   ]
  },
  {
   "cell_type": "code",
   "execution_count": 366,
   "id": "8fbf635b",
   "metadata": {},
   "outputs": [
    {
     "data": {
      "text/html": [
       "<div>\n",
       "<style scoped>\n",
       "    .dataframe tbody tr th:only-of-type {\n",
       "        vertical-align: middle;\n",
       "    }\n",
       "\n",
       "    .dataframe tbody tr th {\n",
       "        vertical-align: top;\n",
       "    }\n",
       "\n",
       "    .dataframe thead th {\n",
       "        text-align: right;\n",
       "    }\n",
       "</style>\n",
       "<table border=\"1\" class=\"dataframe\">\n",
       "  <thead>\n",
       "    <tr style=\"text-align: right;\">\n",
       "      <th></th>\n",
       "      <th>bedrooms</th>\n",
       "      <th>bathrooms</th>\n",
       "      <th>toilets</th>\n",
       "      <th>parking_space</th>\n",
       "      <th>title</th>\n",
       "      <th>town</th>\n",
       "      <th>price</th>\n",
       "    </tr>\n",
       "  </thead>\n",
       "  <tbody>\n",
       "    <tr>\n",
       "      <th>0</th>\n",
       "      <td>4.0</td>\n",
       "      <td>5.0</td>\n",
       "      <td>5.0</td>\n",
       "      <td>4.0</td>\n",
       "      <td>2</td>\n",
       "      <td>29</td>\n",
       "      <td>120000000.0</td>\n",
       "    </tr>\n",
       "    <tr>\n",
       "      <th>1</th>\n",
       "      <td>4.0</td>\n",
       "      <td>4.0</td>\n",
       "      <td>5.0</td>\n",
       "      <td>6.0</td>\n",
       "      <td>2</td>\n",
       "      <td>2</td>\n",
       "      <td>40000000.0</td>\n",
       "    </tr>\n",
       "    <tr>\n",
       "      <th>2</th>\n",
       "      <td>4.0</td>\n",
       "      <td>4.0</td>\n",
       "      <td>5.0</td>\n",
       "      <td>2.0</td>\n",
       "      <td>4</td>\n",
       "      <td>29</td>\n",
       "      <td>75000000.0</td>\n",
       "    </tr>\n",
       "  </tbody>\n",
       "</table>\n",
       "</div>"
      ],
      "text/plain": [
       "   bedrooms  bathrooms  toilets  parking_space  title  town        price\n",
       "0       4.0        5.0      5.0            4.0      2    29  120000000.0\n",
       "1       4.0        4.0      5.0            6.0      2     2   40000000.0\n",
       "2       4.0        4.0      5.0            2.0      4    29   75000000.0"
      ]
     },
     "execution_count": 366,
     "metadata": {},
     "output_type": "execute_result"
    }
   ],
   "source": [
    "encoder = LabelEncoder()\n",
    "encoded_column = [\"title\", \"town\"]\n",
    "\n",
    "df_clean = df.copy()\n",
    "\n",
    "# Fit and transform the columns\n",
    "for col in encoded_column:\n",
    "    df_clean[col] = encoder.fit_transform(df_clean[col])\n",
    "    \n",
    "df_clean.head(3)"
   ]
  },
  {
   "cell_type": "code",
   "execution_count": 367,
   "id": "93c566a4",
   "metadata": {},
   "outputs": [
    {
     "data": {
      "text/plain": [
       "bedrooms         0\n",
       "bathrooms        0\n",
       "toilets          0\n",
       "parking_space    0\n",
       "title            0\n",
       "town             0\n",
       "price            0\n",
       "dtype: int64"
      ]
     },
     "execution_count": 367,
     "metadata": {},
     "output_type": "execute_result"
    }
   ],
   "source": [
    "df_clean.isnull().sum()"
   ]
  },
  {
   "cell_type": "markdown",
   "id": "5d4ee569",
   "metadata": {
    "papermill": {
     "duration": 0.043421,
     "end_time": "2023-12-15T19:02:12.617339",
     "exception": false,
     "start_time": "2023-12-15T19:02:12.573918",
     "status": "completed"
    },
    "tags": []
   },
   "source": [
    "# Model Training and Evaluation"
   ]
  },
  {
   "cell_type": "code",
   "execution_count": 368,
   "id": "dcce1585",
   "metadata": {},
   "outputs": [],
   "source": [
    "# Split the dataset using \n",
    "\n",
    "X = df_clean.drop(\"price\", axis=1)\n",
    "y = df_clean['price']\n",
    "\n",
    "# Rescale the input variables\n",
    "scaler = StandardScaler()\n",
    "X_scaled = scaler.fit_transform(X)\n",
    "\n",
    "X_train, X_test, y_train, y_test = train_test_split(X_scaled, y, test_size=0.2, random_state=42)"
   ]
  },
  {
   "cell_type": "markdown",
   "id": "6ef5cdfa",
   "metadata": {},
   "source": [
    "\n",
    "## Linear Regression "
   ]
  },
  {
   "cell_type": "code",
   "execution_count": 369,
   "id": "61bcafee",
   "metadata": {
    "execution": {
     "iopub.execute_input": "2023-12-15T19:02:12.705314Z",
     "iopub.status.busy": "2023-12-15T19:02:12.704891Z",
     "iopub.status.idle": "2023-12-15T19:02:12.729757Z",
     "shell.execute_reply": "2023-12-15T19:02:12.728646Z"
    },
    "papermill": {
     "duration": 0.07249,
     "end_time": "2023-12-15T19:02:12.732942",
     "exception": false,
     "start_time": "2023-12-15T19:02:12.660452",
     "status": "completed"
    },
    "tags": []
   },
   "outputs": [
    {
     "name": "stdout",
     "output_type": "stream",
     "text": [
      "Multiple Linear Regression RMSE: 91572650.74322799\n",
      "Multiple Linear Regression  R-squared: 0.20095912579815223\n"
     ]
    }
   ],
   "source": [
    "lr_model = LinearRegression()\n",
    "lr_model.fit(X_train, y_train)                                 \n",
    "\n",
    "y_pred = lr_model.predict(X_test)\n",
    "\n",
    "rmse = np.sqrt(mean_squared_error(y_test, y_pred))  # Calculate RMSE\n",
    "r2 = r2_score(y_test, y_pred)  # Calculate R-squared\n",
    "\n",
    "print(f\"Multiple Linear Regression RMSE: {rmse}\")\n",
    "print(f\"Multiple Linear Regression  R-squared: {r2}\")"
   ]
  },
  {
   "cell_type": "code",
   "execution_count": 370,
   "id": "ea11818c",
   "metadata": {},
   "outputs": [
    {
     "data": {
      "image/png": "[encoded data removed]",
      "text/plain": [
       "<Figure size 1000x600 with 1 Axes>"
      ]
     },
     "metadata": {},
     "output_type": "display_data"
    }
   ],
   "source": [
    "plt.figure(figsize=(10, 6))\n",
    "plt.scatter(y_test, y_pred, alpha=0.6)\n",
    "plt.plot([y_test.min(), y_test.max()], [y_test.min(), y_test.max()], 'r--', lw=2)\n",
    "plt.title('Linear Regression')\n",
    "plt.show()\n"
   ]
  },
  {
   "cell_type": "markdown",
   "id": "3bd57c74",
   "metadata": {},
   "source": [
    "## Gradient Boosting"
   ]
  },
  {
   "cell_type": "code",
   "execution_count": 371,
   "id": "ff522ef9",
   "metadata": {},
   "outputs": [
    {
     "name": "stdout",
     "output_type": "stream",
     "text": [
      "Multiple Linear Regression RMSE: 91572650.74322799\n",
      "Multiple Linear Regression  R-squared: 0.20095912579815223\n"
     ]
    }
   ],
   "source": [
    "gb_model = LinearRegression()\n",
    "gb_model.fit(X_train, y_train)                                 \n",
    "\n",
    "y_pred = gb_model.predict(X_test)\n",
    "\n",
    "rmse = np.sqrt(mean_squared_error(y_test, y_pred))  # Calculate RMSE\n",
    "r2 = r2_score(y_test, y_pred)  # Calculate R-squared\n",
    "\n",
    "print(f\"Multiple Linear Regression RMSE: {rmse}\")\n",
    "print(f\"Multiple Linear Regression  R-squared: {r2}\")"
   ]
  },
  {
   "cell_type": "markdown",
   "id": "07734c0a",
   "metadata": {},
   "source": [
    "## Save the model"
   ]
  },
  {
   "cell_type": "code",
   "execution_count": 372,
   "id": "1c103672",
   "metadata": {},
   "outputs": [],
   "source": [
    "import pickle\n",
    "\n",
    "# Save the model as a pickle file\n",
    "with open('lr_model.pkl', 'wb') as f:\n",
    "    pickle.dump(lr_model, f)\n",
    "\n",
    "with open('gb_model.pkl', 'wb') as f:\n",
    "    pickle.dump(gb_model, f)"
   ]
  },
  {
   "cell_type": "code",
   "execution_count": null,
   "id": "02d1793b",
   "metadata": {},
   "outputs": [],
   "source": []
  },
  {
   "cell_type": "code",
   "execution_count": null,
   "id": "63322c54",
   "metadata": {},
   "outputs": [],
   "source": []
  },
  {
   "cell_type": "markdown",
   "id": "acb81339",
   "metadata": {},
   "source": [
    "### Test other models"
   ]
  },
  {
   "cell_type": "code",
   "execution_count": 373,
   "id": "7de44f5d",
   "metadata": {},
   "outputs": [
    {
     "name": "stdout",
     "output_type": "stream",
     "text": [
      "Lasso Regression RMSE: 91572650.73  R-squared: 0.20\n",
      "\n",
      "Ridge Regression RMSE: 91572600.23  R-squared: 0.20\n",
      "\n",
      "Elastic Net RMSE: 91472100.20  R-squared: 0.20\n",
      "\n",
      "Decision Tree Regressor RMSE: 79026630.28  R-squared: 0.40\n",
      "\n",
      "Random Forest Regressor RMSE: 73760024.20  R-squared: 0.48\n",
      "\n",
      "Gradient Boosting Regressor RMSE: 72265743.33  R-squared: 0.50\n",
      "\n",
      "Support Vector Regressor RMSE: 110521013.63  R-squared: -0.16\n",
      "\n",
      "XGBoost Regressor RMSE: 72705940.23  R-squared: 0.50\n",
      "\n"
     ]
    }
   ],
   "source": [
    "# Define the models\n",
    "models = {\n",
    "    \"Lasso Regression\": Lasso(alpha=0.1),\n",
    "    \"Ridge Regression\": Ridge(alpha=0.1),\n",
    "    \"Elastic Net\": ElasticNet(alpha=0.1, l1_ratio=0.5),\n",
    "    \"Decision Tree Regressor\": DecisionTreeRegressor(random_state=42),\n",
    "    \"Random Forest Regressor\": RandomForestRegressor(n_estimators=100, random_state=42),\n",
    "    \"Gradient Boosting Regressor\": GradientBoostingRegressor(n_estimators=100, random_state=42),\n",
    "    \"Support Vector Regressor\": SVR(kernel='rbf'),\n",
    "    \"XGBoost Regressor\": xgb.XGBRegressor(n_estimators=100, random_state=42)\n",
    "}\n",
    "\n",
    "# Evaluate the models\n",
    "for name, model in models.items():\n",
    "    model.fit(X_train, y_train)\n",
    "    y_pred = model.predict(X_test)\n",
    "    \n",
    "    rmse = np.sqrt(mean_squared_error(y_test, y_pred))\n",
    "    r2 = r2_score(y_test, y_pred)\n",
    "    \n",
    "    print(f\"{name} RMSE: {rmse:.2f}  R-squared: {r2:.2f}\\n\")"
   ]
  }
 ],
 "metadata": {
  "kaggle": {
   "accelerator": "none",
   "dataSources": [
    {
     "datasetId": 1415024,
     "sourceId": 2344026,
     "sourceType": "datasetVersion"
    }
   ],
   "dockerImageVersionId": 30626,
   "isGpuEnabled": false,
   "isInternetEnabled": true,
   "language": "python",
   "sourceType": "notebook"
  },
  "kernelspec": {
   "display_name": "Python 3",
   "language": "python",
   "name": "python3"
  },
  "language_info": {
   "codemirror_mode": {
    "name": "ipython",
    "version": 3
   },
   "file_extension": ".py",
   "mimetype": "text/x-python",
   "name": "python",
   "nbconvert_exporter": "python",
   "pygments_lexer": "ipython3",
   "version": "3.11.2"
  },
  "papermill": {
   "default_parameters": {},
   "duration": 407.17382,
   "end_time": "2023-12-15T19:08:13.666246",
   "environment_variables": {},
   "exception": null,
   "input_path": "__notebook__.ipynb",
   "output_path": "__notebook__.ipynb",
   "parameters": {},
   "start_time": "2023-12-15T19:01:26.492426",
   "version": "2.4.0"
  },
  "widgets": {
   "application/vnd.jupyter.widget-state+json": {
    "state": {
     "0c481c1283ad41d4bfa8f56fd4fe8e7b": {
      "model_module": "@jupyter-widgets/base",
      "model_module_version": "1.2.0",
      "model_name": "LayoutModel",
      "state": {
       "_model_module": "@jupyter-widgets/base",
       "_model_module_version": "1.2.0",
       "_model_name": "LayoutModel",
       "_view_count": null,
       "_view_module": "@jupyter-widgets/base",
       "_view_module_version": "1.2.0",
       "_view_name": "LayoutView",
       "align_content": null,
       "align_items": null,
       "align_self": null,
       "border": null,
       "bottom": null,
       "display": null,
       "flex": null,
       "flex_flow": null,
       "grid_area": null,
       "grid_auto_columns": null,
       "grid_auto_flow": null,
       "grid_auto_rows": null,
       "grid_column": null,
       "grid_gap": null,
       "grid_row": null,
       "grid_template_areas": null,
       "grid_template_columns": null,
       "grid_template_rows": null,
       "height": null,
       "justify_content": null,
       "justify_items": null,
       "left": null,
       "margin": null,
       "max_height": null,
       "max_width": null,
       "min_height": null,
       "min_width": null,
       "object_fit": null,
       "object_position": null,
       "order": null,
       "overflow": null,
       "overflow_x": null,
       "overflow_y": null,
       "padding": null,
       "right": null,
       "top": null,
       "visibility": null,
       "width": null
      }
     },
     "1da79ceb5ac84ffb802b9e172989c0e5": {
      "model_module": "@jupyter-widgets/controls",
      "model_module_version": "1.5.0",
      "model_name": "IntSliderModel",
      "state": {
       "_dom_classes": [],
       "_model_module": "@jupyter-widgets/controls",
       "_model_module_version": "1.5.0",
       "_model_name": "IntSliderModel",
       "_view_count": null,
       "_view_module": "@jupyter-widgets/controls",
       "_view_module_version": "1.5.0",
       "_view_name": "IntSliderView",
       "continuous_update": true,
       "description": "toilets",
       "description_tooltip": null,
       "disabled": false,
       "layout": "IPY_MODEL_8c150862848b4141a6db8f917cd54c51",
       "max": 9,
       "min": 1,
       "orientation": "horizontal",
       "readout": true,
       "readout_format": "d",
       "step": 1,
       "style": "IPY_MODEL_ff1606c4c2e44ce3815bf7c4b05aebf8",
       "value": 4
      }
     },
     "1f634adf652e498084db093e62350110": {
      "model_module": "@jupyter-widgets/controls",
      "model_module_version": "1.5.0",
      "model_name": "SliderStyleModel",
      "state": {
       "_model_module": "@jupyter-widgets/controls",
       "_model_module_version": "1.5.0",
       "_model_name": "SliderStyleModel",
       "_view_count": null,
       "_view_module": "@jupyter-widgets/base",
       "_view_module_version": "1.2.0",
       "_view_name": "StyleView",
       "description_width": "",
       "handle_color": null
      }
     },
     "39f365c9e6d344da9fa911677e320208": {
      "model_module": "@jupyter-widgets/base",
      "model_module_version": "1.2.0",
      "model_name": "LayoutModel",
      "state": {
       "_model_module": "@jupyter-widgets/base",
       "_model_module_version": "1.2.0",
       "_model_name": "LayoutModel",
       "_view_count": null,
       "_view_module": "@jupyter-widgets/base",
       "_view_module_version": "1.2.0",
       "_view_name": "LayoutView",
       "align_content": null,
       "align_items": null,
       "align_self": null,
       "border": null,
       "bottom": null,
       "display": null,
       "flex": null,
       "flex_flow": null,
       "grid_area": null,
       "grid_auto_columns": null,
       "grid_auto_flow": null,
       "grid_auto_rows": null,
       "grid_column": null,
       "grid_gap": null,
       "grid_row": null,
       "grid_template_areas": null,
       "grid_template_columns": null,
       "grid_template_rows": null,
       "height": null,
       "justify_content": null,
       "justify_items": null,
       "left": null,
       "margin": null,
       "max_height": null,
       "max_width": null,
       "min_height": null,
       "min_width": null,
       "object_fit": null,
       "object_position": null,
       "order": null,
       "overflow": null,
       "overflow_x": null,
       "overflow_y": null,
       "padding": null,
       "right": null,
       "top": null,
       "visibility": null,
       "width": null
      }
     },
     "3a558ef90293458e99f06a0f3caa565c": {
      "model_module": "@jupyter-widgets/base",
      "model_module_version": "1.2.0",
      "model_name": "LayoutModel",
      "state": {
       "_model_module": "@jupyter-widgets/base",
       "_model_module_version": "1.2.0",
       "_model_name": "LayoutModel",
       "_view_count": null,
       "_view_module": "@jupyter-widgets/base",
       "_view_module_version": "1.2.0",
       "_view_name": "LayoutView",
       "align_content": null,
       "align_items": null,
       "align_self": null,
       "border": null,
       "bottom": null,
       "display": null,
       "flex": null,
       "flex_flow": null,
       "grid_area": null,
       "grid_auto_columns": null,
       "grid_auto_flow": null,
       "grid_auto_rows": null,
       "grid_column": null,
       "grid_gap": null,
       "grid_row": null,
       "grid_template_areas": null,
       "grid_template_columns": null,
       "grid_template_rows": null,
       "height": null,
       "justify_content": null,
       "justify_items": null,
       "left": null,
       "margin": null,
       "max_height": null,
       "max_width": null,
       "min_height": null,
       "min_width": null,
       "object_fit": null,
       "object_position": null,
       "order": null,
       "overflow": null,
       "overflow_x": null,
       "overflow_y": null,
       "padding": null,
       "right": null,
       "top": null,
       "visibility": null,
       "width": null
      }
     },
     "44f0957b770a4320b0051e47670df67f": {
      "model_module": "@jupyter-widgets/base",
      "model_module_version": "1.2.0",
      "model_name": "LayoutModel",
      "state": {
       "_model_module": "@jupyter-widgets/base",
       "_model_module_version": "1.2.0",
       "_model_name": "LayoutModel",
       "_view_count": null,
       "_view_module": "@jupyter-widgets/base",
       "_view_module_version": "1.2.0",
       "_view_name": "LayoutView",
       "align_content": null,
       "align_items": null,
       "align_self": null,
       "border": null,
       "bottom": null,
       "display": null,
       "flex": null,
       "flex_flow": null,
       "grid_area": null,
       "grid_auto_columns": null,
       "grid_auto_flow": null,
       "grid_auto_rows": null,
       "grid_column": null,
       "grid_gap": null,
       "grid_row": null,
       "grid_template_areas": null,
       "grid_template_columns": null,
       "grid_template_rows": null,
       "height": null,
       "justify_content": null,
       "justify_items": null,
       "left": null,
       "margin": null,
       "max_height": null,
       "max_width": null,
       "min_height": null,
       "min_width": null,
       "object_fit": null,
       "object_position": null,
       "order": null,
       "overflow": null,
       "overflow_x": null,
       "overflow_y": null,
       "padding": null,
       "right": null,
       "top": null,
       "visibility": null,
       "width": null
      }
     },
     "50ef665e9b4b4ac88b6a571b73e6af43": {
      "model_module": "@jupyter-widgets/controls",
      "model_module_version": "1.5.0",
      "model_name": "DropdownModel",
      "state": {
       "_dom_classes": [],
       "_model_module": "@jupyter-widgets/controls",
       "_model_module_version": "1.5.0",
       "_model_name": "DropdownModel",
       "_options_labels": [
        "Agege",
        "Ajah",
        "Alimosho",
        "Amuwo Odofin",
        "Gbagada",
        "Ibeju Lekki",
        "Ifako-Ijaiye",
        "Ikeja",
        "Ikorodu",
        "Ikotun",
        "Ikoyi",
        "Ilupeju",
        "Ipaja",
        "Isheri North",
        "Isolo",
        "Lekki",
        "Magodo",
        "Maryland",
        "Ogudu",
        "Ojo",
        "Ojodu",
        "Others_lagos",
        "Surulere",
        "Victoria Island (VI)",
        "Yaba",
        "Apo",
        "Asokoro District",
        "Durumi",
        "Gaduwa",
        "Galadimawa",
        "Garki",
        "Gudu",
        "Guzape District",
        "Gwarinpa",
        "Jabi",
        "Jahi",
        "Kado",
        "Karmo",
        "Karsana",
        "Katampe",
        "Kaura",
        "Kubwa",
        "Life Camp",
        "Lokogoma District",
        "Lugbe District",
        "Mabushi",
        "Maitama District",
        "Mbora (Nbora)",
        "Others_abuja",
        "Utako",
        "Wuse",
        "Wuse 2",
        "Wuye"
       ],
       "_view_count": null,
       "_view_module": "@jupyter-widgets/controls",
       "_view_module_version": "1.5.0",
       "_view_name": "DropdownView",
       "description": "town",
       "description_tooltip": null,
       "disabled": false,
       "index": 10,
       "layout": "IPY_MODEL_44f0957b770a4320b0051e47670df67f",
       "style": "IPY_MODEL_ce0d8ff1504743ffab753ead15fe7c46"
      }
     },
     "515faf00c36e4f2eb2b114e7e1bb0486": {
      "model_module": "@jupyter-widgets/controls",
      "model_module_version": "1.5.0",
      "model_name": "DropdownModel",
      "state": {
       "_dom_classes": [],
       "_model_module": "@jupyter-widgets/controls",
       "_model_module_version": "1.5.0",
       "_model_name": "DropdownModel",
       "_options_labels": [
        "Block of Flats",
        "Detached Bungalow",
        "Detached Duplex",
        "Semi Detached Bungalow",
        "Semi Detached Duplex",
        "Terraced Bungalow",
        "Terraced Duplexes"
       ],
       "_view_count": null,
       "_view_module": "@jupyter-widgets/controls",
       "_view_module_version": "1.5.0",
       "_view_name": "DropdownView",
       "description": "title",
       "description_tooltip": null,
       "disabled": false,
       "index": 2,
       "layout": "IPY_MODEL_0c481c1283ad41d4bfa8f56fd4fe8e7b",
       "style": "IPY_MODEL_f9f5059295fc4355954f1abe1e543981"
      }
     },
     "5a48fd9f82d74db39885ea4a95bee85d": {
      "model_module": "@jupyter-widgets/controls",
      "model_module_version": "1.5.0",
      "model_name": "DescriptionStyleModel",
      "state": {
       "_model_module": "@jupyter-widgets/controls",
       "_model_module_version": "1.5.0",
       "_model_name": "DescriptionStyleModel",
       "_view_count": null,
       "_view_module": "@jupyter-widgets/base",
       "_view_module_version": "1.2.0",
       "_view_name": "StyleView",
       "description_width": ""
      }
     },
     "62d0ab1ff5ae4c78986b494aa8c228e1": {
      "model_module": "@jupyter-widgets/controls",
      "model_module_version": "1.5.0",
      "model_name": "DropdownModel",
      "state": {
       "_dom_classes": [],
       "_model_module": "@jupyter-widgets/controls",
       "_model_module_version": "1.5.0",
       "_model_name": "DropdownModel",
       "_options_labels": [
        "Lagos",
        "Abuja"
       ],
       "_view_count": null,
       "_view_module": "@jupyter-widgets/controls",
       "_view_module_version": "1.5.0",
       "_view_name": "DropdownView",
       "description": "state",
       "description_tooltip": null,
       "disabled": false,
       "index": 0,
       "layout": "IPY_MODEL_3a558ef90293458e99f06a0f3caa565c",
       "style": "IPY_MODEL_5a48fd9f82d74db39885ea4a95bee85d"
      }
     },
     "72946b9e6443464c97053fe5ce4d00fe": {
      "model_module": "@jupyter-widgets/base",
      "model_module_version": "1.2.0",
      "model_name": "LayoutModel",
      "state": {
       "_model_module": "@jupyter-widgets/base",
       "_model_module_version": "1.2.0",
       "_model_name": "LayoutModel",
       "_view_count": null,
       "_view_module": "@jupyter-widgets/base",
       "_view_module_version": "1.2.0",
       "_view_name": "LayoutView",
       "align_content": null,
       "align_items": null,
       "align_self": null,
       "border": null,
       "bottom": null,
       "display": null,
       "flex": null,
       "flex_flow": null,
       "grid_area": null,
       "grid_auto_columns": null,
       "grid_auto_flow": null,
       "grid_auto_rows": null,
       "grid_column": null,
       "grid_gap": null,
       "grid_row": null,
       "grid_template_areas": null,
       "grid_template_columns": null,
       "grid_template_rows": null,
       "height": null,
       "justify_content": null,
       "justify_items": null,
       "left": null,
       "margin": null,
       "max_height": null,
       "max_width": null,
       "min_height": null,
       "min_width": null,
       "object_fit": null,
       "object_position": null,
       "order": null,
       "overflow": null,
       "overflow_x": null,
       "overflow_y": null,
       "padding": null,
       "right": null,
       "top": null,
       "visibility": null,
       "width": null
      }
     },
     "73e1d0200d2a40ce8ae117de80d95d91": {
      "model_module": "@jupyter-widgets/base",
      "model_module_version": "1.2.0",
      "model_name": "LayoutModel",
      "state": {
       "_model_module": "@jupyter-widgets/base",
       "_model_module_version": "1.2.0",
       "_model_name": "LayoutModel",
       "_view_count": null,
       "_view_module": "@jupyter-widgets/base",
       "_view_module_version": "1.2.0",
       "_view_name": "LayoutView",
       "align_content": null,
       "align_items": null,
       "align_self": null,
       "border": null,
       "bottom": null,
       "display": null,
       "flex": null,
       "flex_flow": null,
       "grid_area": null,
       "grid_auto_columns": null,
       "grid_auto_flow": null,
       "grid_auto_rows": null,
       "grid_column": null,
       "grid_gap": null,
       "grid_row": null,
       "grid_template_areas": null,
       "grid_template_columns": null,
       "grid_template_rows": null,
       "height": null,
       "justify_content": null,
       "justify_items": null,
       "left": null,
       "margin": null,
       "max_height": null,
       "max_width": null,
       "min_height": null,
       "min_width": null,
       "object_fit": null,
       "object_position": null,
       "order": null,
       "overflow": null,
       "overflow_x": null,
       "overflow_y": null,
       "padding": null,
       "right": null,
       "top": null,
       "visibility": null,
       "width": null
      }
     },
     "89d8b148405f4de68704bf3f47d2f6dd": {
      "model_module": "@jupyter-widgets/controls",
      "model_module_version": "1.5.0",
      "model_name": "IntSliderModel",
      "state": {
       "_dom_classes": [],
       "_model_module": "@jupyter-widgets/controls",
       "_model_module_version": "1.5.0",
       "_model_name": "IntSliderModel",
       "_view_count": null,
       "_view_module": "@jupyter-widgets/controls",
       "_view_module_version": "1.5.0",
       "_view_name": "IntSliderView",
       "continuous_update": true,
       "description": "bedrooms",
       "description_tooltip": null,
       "disabled": false,
       "layout": "IPY_MODEL_8c252f2524e0420bb4e16e4c80a862d1",
       "max": 9,
       "min": 1,
       "orientation": "horizontal",
       "readout": true,
       "readout_format": "d",
       "step": 1,
       "style": "IPY_MODEL_a2f574655d7c4d6f9dab6ae54e580e63",
       "value": 4
      }
     },
     "8c150862848b4141a6db8f917cd54c51": {
      "model_module": "@jupyter-widgets/base",
      "model_module_version": "1.2.0",
      "model_name": "LayoutModel",
      "state": {
       "_model_module": "@jupyter-widgets/base",
       "_model_module_version": "1.2.0",
       "_model_name": "LayoutModel",
       "_view_count": null,
       "_view_module": "@jupyter-widgets/base",
       "_view_module_version": "1.2.0",
       "_view_name": "LayoutView",
       "align_content": null,
       "align_items": null,
       "align_self": null,
       "border": null,
       "bottom": null,
       "display": null,
       "flex": null,
       "flex_flow": null,
       "grid_area": null,
       "grid_auto_columns": null,
       "grid_auto_flow": null,
       "grid_auto_rows": null,
       "grid_column": null,
       "grid_gap": null,
       "grid_row": null,
       "grid_template_areas": null,
       "grid_template_columns": null,
       "grid_template_rows": null,
       "height": null,
       "justify_content": null,
       "justify_items": null,
       "left": null,
       "margin": null,
       "max_height": null,
       "max_width": null,
       "min_height": null,
       "min_width": null,
       "object_fit": null,
       "object_position": null,
       "order": null,
       "overflow": null,
       "overflow_x": null,
       "overflow_y": null,
       "padding": null,
       "right": null,
       "top": null,
       "visibility": null,
       "width": null
      }
     },
     "8c252f2524e0420bb4e16e4c80a862d1": {
      "model_module": "@jupyter-widgets/base",
      "model_module_version": "1.2.0",
      "model_name": "LayoutModel",
      "state": {
       "_model_module": "@jupyter-widgets/base",
       "_model_module_version": "1.2.0",
       "_model_name": "LayoutModel",
       "_view_count": null,
       "_view_module": "@jupyter-widgets/base",
       "_view_module_version": "1.2.0",
       "_view_name": "LayoutView",
       "align_content": null,
       "align_items": null,
       "align_self": null,
       "border": null,
       "bottom": null,
       "display": null,
       "flex": null,
       "flex_flow": null,
       "grid_area": null,
       "grid_auto_columns": null,
       "grid_auto_flow": null,
       "grid_auto_rows": null,
       "grid_column": null,
       "grid_gap": null,
       "grid_row": null,
       "grid_template_areas": null,
       "grid_template_columns": null,
       "grid_template_rows": null,
       "height": null,
       "justify_content": null,
       "justify_items": null,
       "left": null,
       "margin": null,
       "max_height": null,
       "max_width": null,
       "min_height": null,
       "min_width": null,
       "object_fit": null,
       "object_position": null,
       "order": null,
       "overflow": null,
       "overflow_x": null,
       "overflow_y": null,
       "padding": null,
       "right": null,
       "top": null,
       "visibility": null,
       "width": null
      }
     },
     "97430740ccaf46e3a5930b01adc54801": {
      "model_module": "@jupyter-widgets/controls",
      "model_module_version": "1.5.0",
      "model_name": "IntSliderModel",
      "state": {
       "_dom_classes": [],
       "_model_module": "@jupyter-widgets/controls",
       "_model_module_version": "1.5.0",
       "_model_name": "IntSliderModel",
       "_view_count": null,
       "_view_module": "@jupyter-widgets/controls",
       "_view_module_version": "1.5.0",
       "_view_name": "IntSliderView",
       "continuous_update": true,
       "description": "parking_space",
       "description_tooltip": null,
       "disabled": false,
       "layout": "IPY_MODEL_a062097015f14705afe92174bebed91a",
       "max": 9,
       "min": 1,
       "orientation": "horizontal",
       "readout": true,
       "readout_format": "d",
       "step": 1,
       "style": "IPY_MODEL_1f634adf652e498084db093e62350110",
       "value": 4
      }
     },
     "9d8e111a35ea47b584478b0352ab07ed": {
      "model_module": "@jupyter-widgets/controls",
      "model_module_version": "1.5.0",
      "model_name": "SliderStyleModel",
      "state": {
       "_model_module": "@jupyter-widgets/controls",
       "_model_module_version": "1.5.0",
       "_model_name": "SliderStyleModel",
       "_view_count": null,
       "_view_module": "@jupyter-widgets/base",
       "_view_module_version": "1.2.0",
       "_view_name": "StyleView",
       "description_width": "",
       "handle_color": null
      }
     },
     "a062097015f14705afe92174bebed91a": {
      "model_module": "@jupyter-widgets/base",
      "model_module_version": "1.2.0",
      "model_name": "LayoutModel",
      "state": {
       "_model_module": "@jupyter-widgets/base",
       "_model_module_version": "1.2.0",
       "_model_name": "LayoutModel",
       "_view_count": null,
       "_view_module": "@jupyter-widgets/base",
       "_view_module_version": "1.2.0",
       "_view_name": "LayoutView",
       "align_content": null,
       "align_items": null,
       "align_self": null,
       "border": null,
       "bottom": null,
       "display": null,
       "flex": null,
       "flex_flow": null,
       "grid_area": null,
       "grid_auto_columns": null,
       "grid_auto_flow": null,
       "grid_auto_rows": null,
       "grid_column": null,
       "grid_gap": null,
       "grid_row": null,
       "grid_template_areas": null,
       "grid_template_columns": null,
       "grid_template_rows": null,
       "height": null,
       "justify_content": null,
       "justify_items": null,
       "left": null,
       "margin": null,
       "max_height": null,
       "max_width": null,
       "min_height": null,
       "min_width": null,
       "object_fit": null,
       "object_position": null,
       "order": null,
       "overflow": null,
       "overflow_x": null,
       "overflow_y": null,
       "padding": null,
       "right": null,
       "top": null,
       "visibility": null,
       "width": null
      }
     },
     "a2f574655d7c4d6f9dab6ae54e580e63": {
      "model_module": "@jupyter-widgets/controls",
      "model_module_version": "1.5.0",
      "model_name": "SliderStyleModel",
      "state": {
       "_model_module": "@jupyter-widgets/controls",
       "_model_module_version": "1.5.0",
       "_model_name": "SliderStyleModel",
       "_view_count": null,
       "_view_module": "@jupyter-widgets/base",
       "_view_module_version": "1.2.0",
       "_view_name": "StyleView",
       "description_width": "",
       "handle_color": null
      }
     },
     "b4174f760c1f4aada8a56a0a5ad9a52d": {
      "model_module": "@jupyter-widgets/controls",
      "model_module_version": "1.5.0",
      "model_name": "IntSliderModel",
      "state": {
       "_dom_classes": [],
       "_model_module": "@jupyter-widgets/controls",
       "_model_module_version": "1.5.0",
       "_model_name": "IntSliderModel",
       "_view_count": null,
       "_view_module": "@jupyter-widgets/controls",
       "_view_module_version": "1.5.0",
       "_view_name": "IntSliderView",
       "continuous_update": true,
       "description": "bathrooms",
       "description_tooltip": null,
       "disabled": false,
       "layout": "IPY_MODEL_73e1d0200d2a40ce8ae117de80d95d91",
       "max": 9,
       "min": 1,
       "orientation": "horizontal",
       "readout": true,
       "readout_format": "d",
       "step": 1,
       "style": "IPY_MODEL_9d8e111a35ea47b584478b0352ab07ed",
       "value": 4
      }
     },
     "c438047030604ce7bc7764ee98525b4a": {
      "model_module": "@jupyter-widgets/output",
      "model_module_version": "1.0.0",
      "model_name": "OutputModel",
      "state": {
       "_dom_classes": [],
       "_model_module": "@jupyter-widgets/output",
       "_model_module_version": "1.0.0",
       "_model_name": "OutputModel",
       "_view_count": null,
       "_view_module": "@jupyter-widgets/output",
       "_view_module_version": "1.0.0",
       "_view_name": "OutputView",
       "layout": "IPY_MODEL_72946b9e6443464c97053fe5ce4d00fe",
       "msg_id": "",
       "outputs": [
        {
         "name": "stdout",
         "output_type": "stream",
         "text": "The price of a Detached Duplex with 4 bedroom(s), 4 bathroom(s), and 4 parking space(s) in Ikoyi, Lagos is 232,466,538.77\n"
        }
       ]
      }
     },
     "ce0d8ff1504743ffab753ead15fe7c46": {
      "model_module": "@jupyter-widgets/controls",
      "model_module_version": "1.5.0",
      "model_name": "DescriptionStyleModel",
      "state": {
       "_model_module": "@jupyter-widgets/controls",
       "_model_module_version": "1.5.0",
       "_model_name": "DescriptionStyleModel",
       "_view_count": null,
       "_view_module": "@jupyter-widgets/base",
       "_view_module_version": "1.2.0",
       "_view_name": "StyleView",
       "description_width": ""
      }
     },
     "ef8d6fde35f24dc5a6c4f0e8d824ac59": {
      "model_module": "@jupyter-widgets/controls",
      "model_module_version": "1.5.0",
      "model_name": "VBoxModel",
      "state": {
       "_dom_classes": [
        "widget-interact"
       ],
       "_model_module": "@jupyter-widgets/controls",
       "_model_module_version": "1.5.0",
       "_model_name": "VBoxModel",
       "_view_count": null,
       "_view_module": "@jupyter-widgets/controls",
       "_view_module_version": "1.5.0",
       "_view_name": "VBoxView",
       "box_style": "",
       "children": [
        "IPY_MODEL_62d0ab1ff5ae4c78986b494aa8c228e1",
        "IPY_MODEL_89d8b148405f4de68704bf3f47d2f6dd",
        "IPY_MODEL_b4174f760c1f4aada8a56a0a5ad9a52d",
        "IPY_MODEL_1da79ceb5ac84ffb802b9e172989c0e5",
        "IPY_MODEL_97430740ccaf46e3a5930b01adc54801",
        "IPY_MODEL_515faf00c36e4f2eb2b114e7e1bb0486",
        "IPY_MODEL_50ef665e9b4b4ac88b6a571b73e6af43",
        "IPY_MODEL_c438047030604ce7bc7764ee98525b4a"
       ],
       "layout": "IPY_MODEL_39f365c9e6d344da9fa911677e320208"
      }
     },
     "f9f5059295fc4355954f1abe1e543981": {
      "model_module": "@jupyter-widgets/controls",
      "model_module_version": "1.5.0",
      "model_name": "DescriptionStyleModel",
      "state": {
       "_model_module": "@jupyter-widgets/controls",
       "_model_module_version": "1.5.0",
       "_model_name": "DescriptionStyleModel",
       "_view_count": null,
       "_view_module": "@jupyter-widgets/base",
       "_view_module_version": "1.2.0",
       "_view_name": "StyleView",
       "description_width": ""
      }
     },
     "ff1606c4c2e44ce3815bf7c4b05aebf8": {
      "model_module": "@jupyter-widgets/controls",
      "model_module_version": "1.5.0",
      "model_name": "SliderStyleModel",
      "state": {
       "_model_module": "@jupyter-widgets/controls",
       "_model_module_version": "1.5.0",
       "_model_name": "SliderStyleModel",
       "_view_count": null,
       "_view_module": "@jupyter-widgets/base",
       "_view_module_version": "1.2.0",
       "_view_name": "StyleView",
       "description_width": "",
       "handle_color": null
      }
     }
    },
    "version_major": 2,
    "version_minor": 0
   }
  }
 },
 "nbformat": 4,
 "nbformat_minor": 5
}
