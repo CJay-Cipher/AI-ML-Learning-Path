{
 "cells": [
  {
   "cell_type": "markdown",
   "id": "fab23486",
   "metadata": {},
   "source": [
    "# checking the vadidation of a password\n",
    "\n",
    "password should have at least \n",
    "* one letter\n",
    "* one number\n",
    "* one uppercase letter\n",
    "* one character\n",
    "* minimum of six length\n",
    "* maximum of 12 length\n"
   ]
  },
  {
   "cell_type": "code",
   "execution_count": 3,
   "id": "6d26a554",
   "metadata": {
    "tags": []
   },
   "outputs": [],
   "source": [
    "special_char=['@', '#', '$','=', '*', ',', '+']\n",
    "\n",
    "def paswrdValidatn(password):\n",
    "    #ensure there is at least a lowercase password\n",
    "    if not any(x.islower() for x in password):\n",
    "        print('Please add at least a lowercase to your password')\n",
    "        # return False\n",
    "    #ensure there is at least a digit password\n",
    "    if not any(x.isdigit() for x in password):\n",
    "        print('Please add at least a digit to your password')\n",
    "        # return False\n",
    "    #ensure there is at least a uppercase password\n",
    "    if not any(x.isupper() for x in password):\n",
    "        print('Please add at least an uppercase to your password')\n",
    "        # return False\n",
    "    #ensure there is at least a special char password\n",
    "    if not any(x in special_char for x in password):\n",
    "        print('Please add at least a special char to your password')\n",
    "        # return False  \n",
    "    #ensuring the length of password is between 7 and 13\n",
    "    if len(password) <= 7 or len(password) >= 13:\n",
    "        print('Please make the length of your password between 7 and 13')\n",
    "        # return False\n",
    "        \n",
    "    # return True   "
   ]
  },
  {
   "cell_type": "code",
   "execution_count": 4,
   "id": "fb432c5f",
   "metadata": {
    "tags": []
   },
   "outputs": [
    {
     "name": "stdin",
     "output_type": "stream",
     "text": [
      "Please input your password  sdrfwfsfs\n"
     ]
    },
    {
     "name": "stdout",
     "output_type": "stream",
     "text": [
      "Please add at least a digit to your password\n",
      "Please add at least an uppercase to your password\n",
      "Please add at least a special char to your password\n",
      "invalid password\n"
     ]
    }
   ],
   "source": [
    "password= input('Please input your password ')\n",
    "\n",
    "if paswrdValidatn(password):\n",
    "    print('valid password')\n",
    "else:\n",
    "    print('invalid password')"
   ]
  },
  {
   "cell_type": "code",
   "execution_count": null,
   "id": "c3ee9280",
   "metadata": {},
   "outputs": [],
   "source": [
    "Note the function only print out the first encounter\n",
    "certain error statement"
   ]
  },
  {
   "cell_type": "code",
   "execution_count": null,
   "id": "efbd48e7-602a-4ce9-b84f-ebea4450ad02",
   "metadata": {},
   "outputs": [],
   "source": []
  },
  {
   "cell_type": "code",
   "execution_count": null,
   "id": "637708e3-bba6-438c-9c61-865ff4556aa4",
   "metadata": {},
   "outputs": [],
   "source": [
    "special_char=['@', '#', '$','=', '*', ',', '+']\n",
    "temp = []\n",
    "def paswrdValidatn(password):\n",
    "    #ensure there is at least a lowercase password\n",
    "    if not any(x.islower() for x in password):\n",
    "        temp.append('Please add at least a lowercase to your password')\n",
    "        \n",
    "    #ensure there is at least a digit password\n",
    "    if not any(x.isdigit() for x in password):\n",
    "        temp.append('Please add at least a digit to your password')\n",
    "        \n",
    "    #ensure there is at least a uppercase password\n",
    "    if not any(x.isupper() for x in password):\n",
    "        temp.append('Please add at least an uppercase to your password')\n",
    "\n",
    "    #ensure there is at least a special char password\n",
    "    if not any(x in special_char for x in password):\n",
    "        temp.append('Please add at least a special char to your password')\n",
    "  \n",
    "    #ensuring the length of password is between 7 and 13\n",
    "    if len(password) <= 7 or len(password) >= 13:\n",
    "        temp.append('Please make the length of your password between 7 and 13')"
   ]
  },
  {
   "cell_type": "code",
   "execution_count": 2,
   "id": "3ae92c19-fdb6-4dc2-988b-075237901490",
   "metadata": {
    "tags": []
   },
   "outputs": [
    {
     "ename": "NameError",
     "evalue": "name 'password' is not defined",
     "output_type": "error",
     "traceback": [
      "\u001b[1;31m---------------------------------------------------------------------------\u001b[0m",
      "\u001b[1;31mNameError\u001b[0m                                 Traceback (most recent call last)",
      "Cell \u001b[1;32mIn[2], line 5\u001b[0m\n\u001b[0;32m      2\u001b[0m temp \u001b[38;5;241m=\u001b[39m []\n\u001b[0;32m      3\u001b[0m \u001b[38;5;66;03m# password = \u001b[39;00m\n\u001b[0;32m      4\u001b[0m \u001b[38;5;66;03m#ensure there is at least a lowercase password\u001b[39;00m\n\u001b[1;32m----> 5\u001b[0m \u001b[38;5;28;01mif\u001b[39;00m \u001b[38;5;129;01mnot\u001b[39;00m \u001b[38;5;28many\u001b[39m(x\u001b[38;5;241m.\u001b[39mislower() \u001b[38;5;28;01mfor\u001b[39;00m x \u001b[38;5;129;01min\u001b[39;00m \u001b[43mpassword\u001b[49m):\n\u001b[0;32m      6\u001b[0m     temp\u001b[38;5;241m.\u001b[39mappend(\u001b[38;5;124m'\u001b[39m\u001b[38;5;124mPlease add at least a lowercase to your password\u001b[39m\u001b[38;5;124m'\u001b[39m)\n\u001b[0;32m      8\u001b[0m \u001b[38;5;66;03m#ensure there is at least a digit password\u001b[39;00m\n",
      "\u001b[1;31mNameError\u001b[0m: name 'password' is not defined"
     ]
    }
   ],
   "source": [
    "special_char=['@', '#', '$','=', '*', ',', '+']\n",
    "temp = []\n",
    "# password = \n",
    "#ensure there is at least a lowercase password\n",
    "if not any(x.islower() for x in password):\n",
    "    temp.append('Please add at least a lowercase to your password')\n",
    "\n",
    "#ensure there is at least a digit password\n",
    "if not any(x.isdigit() for x in password):\n",
    "    temp.append('Please add at least a digit to your password')\n",
    "\n",
    "#ensure there is at least a uppercase password\n",
    "if not any(x.isupper() for x in password):\n",
    "    temp.append('Please add at least an uppercase to your password')\n",
    "\n",
    "#ensure there is at least a special char password\n",
    "if not any(x in special_char for x in password):\n",
    "    temp.append('Please add at least a special char to your password')\n",
    "\n",
    "#ensuring the length of password is between 7 and 13\n",
    "if len(password) <= 7 or len(password) >= 13:\n",
    "    temp.append('Please make the length of your password between 7 and 13')"
   ]
  },
  {
   "cell_type": "code",
   "execution_count": 6,
   "id": "cece31f3-2803-4e43-94ff-b595f8936a90",
   "metadata": {
    "tags": []
   },
   "outputs": [
    {
     "data": {
      "text/plain": [
       "['Please add at least a digit to your password',\n",
       " 'Please add at least an uppercase to your password',\n",
       " 'Please add at least a special char to your password']"
      ]
     },
     "execution_count": 6,
     "metadata": {},
     "output_type": "execute_result"
    }
   ],
   "source": [
    "temp"
   ]
  },
  {
   "cell_type": "code",
   "execution_count": null,
   "id": "395b2559-6b65-4a15-b390-4939f70a2252",
   "metadata": {},
   "outputs": [],
   "source": []
  }
 ],
 "metadata": {
  "kernelspec": {
   "display_name": "Python 3 (ipykernel)",
   "language": "python",
   "name": "python3"
  },
  "language_info": {
   "codemirror_mode": {
    "name": "ipython",
    "version": 3
   },
   "file_extension": ".py",
   "mimetype": "text/x-python",
   "name": "python",
   "nbconvert_exporter": "python",
   "pygments_lexer": "ipython3",
   "version": "3.11.2"
  }
 },
 "nbformat": 4,
 "nbformat_minor": 5
}
